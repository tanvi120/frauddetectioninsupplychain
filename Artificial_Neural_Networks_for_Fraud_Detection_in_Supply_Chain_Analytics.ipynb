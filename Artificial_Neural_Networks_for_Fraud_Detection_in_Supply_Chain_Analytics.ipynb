{
  "nbformat": 4,
  "nbformat_minor": 0,
  "metadata": {
    "colab": {
      "provenance": [],
      "authorship_tag": "ABX9TyMm+AM6KRQ7Si71FFs4WOkQ",
      "include_colab_link": true
    },
    "kernelspec": {
      "name": "python3",
      "display_name": "Python 3"
    },
    "language_info": {
      "name": "python"
    }
  },
  "cells": [
    {
      "cell_type": "markdown",
      "metadata": {
        "id": "view-in-github",
        "colab_type": "text"
      },
      "source": [
        "<a href=\"https://colab.research.google.com/github/tanvi120/frauddetectioninsupplychain/blob/main/Artificial_Neural_Networks_for_Fraud_Detection_in_Supply_Chain_Analytics.ipynb\" target=\"_parent\"><img src=\"https://colab.research.google.com/assets/colab-badge.svg\" alt=\"Open In Colab\"/></a>"
      ]
    },
    {
      "cell_type": "code",
      "source": [
        "!pip install dmba"
      ],
      "metadata": {
        "colab": {
          "base_uri": "https://localhost:8080/"
        },
        "id": "DT8XAeYPPq3m",
        "outputId": "bc0a680a-3571-4923-cf58-cc0ee8695f81"
      },
      "execution_count": null,
      "outputs": [
        {
          "output_type": "stream",
          "name": "stdout",
          "text": [
            "Collecting dmba\n",
            "  Downloading dmba-0.2.4-py3-none-any.whl (11.8 MB)\n",
            "\u001b[2K     \u001b[90m━━━━━━━━━━━━━━━━━━━━━━━━━━━━━━━━━━━━━━━━\u001b[0m \u001b[32m11.8/11.8 MB\u001b[0m \u001b[31m15.2 MB/s\u001b[0m eta \u001b[36m0:00:00\u001b[0m\n",
            "\u001b[?25hRequirement already satisfied: graphviz in /usr/local/lib/python3.10/dist-packages (from dmba) (0.20.1)\n",
            "Requirement already satisfied: matplotlib in /usr/local/lib/python3.10/dist-packages (from dmba) (3.7.1)\n",
            "Requirement already satisfied: numpy in /usr/local/lib/python3.10/dist-packages (from dmba) (1.22.4)\n",
            "Requirement already satisfied: pandas in /usr/local/lib/python3.10/dist-packages (from dmba) (1.5.3)\n",
            "Requirement already satisfied: scikit-learn in /usr/local/lib/python3.10/dist-packages (from dmba) (1.2.2)\n",
            "Requirement already satisfied: scipy in /usr/local/lib/python3.10/dist-packages (from dmba) (1.10.1)\n",
            "Requirement already satisfied: contourpy>=1.0.1 in /usr/local/lib/python3.10/dist-packages (from matplotlib->dmba) (1.1.0)\n",
            "Requirement already satisfied: cycler>=0.10 in /usr/local/lib/python3.10/dist-packages (from matplotlib->dmba) (0.11.0)\n",
            "Requirement already satisfied: fonttools>=4.22.0 in /usr/local/lib/python3.10/dist-packages (from matplotlib->dmba) (4.41.0)\n",
            "Requirement already satisfied: kiwisolver>=1.0.1 in /usr/local/lib/python3.10/dist-packages (from matplotlib->dmba) (1.4.4)\n",
            "Requirement already satisfied: packaging>=20.0 in /usr/local/lib/python3.10/dist-packages (from matplotlib->dmba) (23.1)\n",
            "Requirement already satisfied: pillow>=6.2.0 in /usr/local/lib/python3.10/dist-packages (from matplotlib->dmba) (8.4.0)\n",
            "Requirement already satisfied: pyparsing>=2.3.1 in /usr/local/lib/python3.10/dist-packages (from matplotlib->dmba) (3.1.0)\n",
            "Requirement already satisfied: python-dateutil>=2.7 in /usr/local/lib/python3.10/dist-packages (from matplotlib->dmba) (2.8.2)\n",
            "Requirement already satisfied: pytz>=2020.1 in /usr/local/lib/python3.10/dist-packages (from pandas->dmba) (2022.7.1)\n",
            "Requirement already satisfied: joblib>=1.1.1 in /usr/local/lib/python3.10/dist-packages (from scikit-learn->dmba) (1.3.1)\n",
            "Requirement already satisfied: threadpoolctl>=2.0.0 in /usr/local/lib/python3.10/dist-packages (from scikit-learn->dmba) (3.1.0)\n",
            "Requirement already satisfied: six>=1.5 in /usr/local/lib/python3.10/dist-packages (from python-dateutil>=2.7->matplotlib->dmba) (1.16.0)\n",
            "Installing collected packages: dmba\n",
            "Successfully installed dmba-0.2.4\n"
          ]
        }
      ]
    },
    {
      "cell_type": "code",
      "execution_count": null,
      "metadata": {
        "colab": {
          "base_uri": "https://localhost:8080/",
          "height": 34
        },
        "id": "NHbcI_rfkORU",
        "outputId": "c8183dc4-506b-4cb8-c462-ec4615c07e84"
      },
      "outputs": [
        {
          "output_type": "display_data",
          "data": {
            "text/html": [
              "        <script type=\"text/javascript\">\n",
              "        window.PlotlyConfig = {MathJaxConfig: 'local'};\n",
              "        if (window.MathJax && window.MathJax.Hub && window.MathJax.Hub.Config) {window.MathJax.Hub.Config({SVG: {font: \"STIX-Web\"}});}\n",
              "        if (typeof require !== 'undefined') {\n",
              "        require.undef(\"plotly\");\n",
              "        requirejs.config({\n",
              "            paths: {\n",
              "                'plotly': ['https://cdn.plot.ly/plotly-2.18.2.min']\n",
              "            }\n",
              "        });\n",
              "        require(['plotly'], function(Plotly) {\n",
              "            window._Plotly = Plotly;\n",
              "        });\n",
              "        }\n",
              "        </script>\n",
              "        "
            ]
          },
          "metadata": {}
        },
        {
          "output_type": "stream",
          "name": "stdout",
          "text": [
            "Colab environment detected.\n"
          ]
        }
      ],
      "source": [
        "## Importing Required Libraries\n",
        "\n",
        "import numpy as np\n",
        "import pandas as pd\n",
        "import seaborn as sns\n",
        "import matplotlib.pyplot as plt\n",
        "%matplotlib inline\n",
        "\n",
        "#Plotly Graphing Libraries\n",
        "from plotly.offline import init_notebook_mode, iplot\n",
        "import cufflinks\n",
        "cufflinks.go_offline()\n",
        "cufflinks.set_config_file(world_readable=True, theme='pearl')\n",
        "import plotly.graph_objs as go\n",
        "import plotly\n",
        "import plotly.express as px\n",
        "\n",
        "## Machine Learning Libaries\n",
        "from sklearn import svm,metrics,tree,preprocessing,linear_model\n",
        "from sklearn.preprocessing import MinMaxScaler,StandardScaler\n",
        "import tensorflow as tf\n",
        "import keras\n",
        "from sklearn.model_selection import train_test_split,cross_val_score, cross_val_predict\n",
        "from sklearn import svm,metrics,tree,preprocessing,linear_model\n",
        "from sklearn.preprocessing import MinMaxScaler,StandardScaler\n",
        "import statsmodels.api as sm\n",
        "from sklearn.metrics import accuracy_score,mean_squared_error,recall_score,confusion_matrix,f1_score,roc_curve, auc\n",
        "from keras import Sequential\n",
        "from keras.layers import Dense, Activation\n",
        "from keras.callbacks import CSVLogger\n",
        "from sklearn.neural_network import MLPClassifier\n",
        "from dmba import classificationSummary\n",
        "\n",
        "# from tensorflow_core.estimator import inputs"
      ]
    },
    {
      "cell_type": "code",
      "source": [
        "# Importing the dataset\n",
        "from google.colab import drive\n",
        "drive.mount('/content/drive')"
      ],
      "metadata": {
        "id": "rsLY_MVPwtrD",
        "colab": {
          "base_uri": "https://localhost:8080/"
        },
        "outputId": "f109e9a2-09e3-4d16-da6f-42ee7c8aa00f"
      },
      "execution_count": null,
      "outputs": [
        {
          "output_type": "stream",
          "name": "stdout",
          "text": [
            "Drive already mounted at /content/drive; to attempt to forcibly remount, call drive.mount(\"/content/drive\", force_remount=True).\n"
          ]
        }
      ]
    },
    {
      "cell_type": "code",
      "source": [
        "# Importing the dataset\n",
        "df = pd.read_csv(\"drive/My Drive/DataCoSupplyChainDataset.csv\",header= 0,encoding= 'unicode_escape')"
      ],
      "metadata": {
        "id": "fRCTLYuxPiWK"
      },
      "execution_count": null,
      "outputs": []
    },
    {
      "cell_type": "code",
      "source": [
        "df.head()"
      ],
      "metadata": {
        "colab": {
          "base_uri": "https://localhost:8080/",
          "height": 421
        },
        "id": "ysz5mXzOxH7m",
        "outputId": "4228242b-1202-4372-bf53-21a051cdcd0d"
      },
      "execution_count": null,
      "outputs": [
        {
          "output_type": "execute_result",
          "data": {
            "text/plain": [
              "       Type  Days for shipping (real)  Days for shipment (scheduled)  \\\n",
              "0     DEBIT                         3                              4   \n",
              "1  TRANSFER                         5                              4   \n",
              "2      CASH                         4                              4   \n",
              "3     DEBIT                         3                              4   \n",
              "4   PAYMENT                         2                              4   \n",
              "\n",
              "   Benefit per order  Sales per customer   Delivery Status  \\\n",
              "0          91.250000          314.640015  Advance shipping   \n",
              "1        -249.089996          311.359985     Late delivery   \n",
              "2        -247.779999          309.720001  Shipping on time   \n",
              "3          22.860001          304.809998  Advance shipping   \n",
              "4         134.210007          298.250000  Advance shipping   \n",
              "\n",
              "   Late_delivery_risk  Category Id   Category Name Customer City  ...  \\\n",
              "0                   0           73  Sporting Goods        Caguas  ...   \n",
              "1                   1           73  Sporting Goods        Caguas  ...   \n",
              "2                   0           73  Sporting Goods      San Jose  ...   \n",
              "3                   0           73  Sporting Goods   Los Angeles  ...   \n",
              "4                   0           73  Sporting Goods        Caguas  ...   \n",
              "\n",
              "  Order Zipcode Product Card Id Product Category Id  Product Description  \\\n",
              "0           NaN            1360                  73                  NaN   \n",
              "1           NaN            1360                  73                  NaN   \n",
              "2           NaN            1360                  73                  NaN   \n",
              "3           NaN            1360                  73                  NaN   \n",
              "4           NaN            1360                  73                  NaN   \n",
              "\n",
              "                                  Product Image  Product Name Product Price  \\\n",
              "0  http://images.acmesports.sports/Smart+watch   Smart watch         327.75   \n",
              "1  http://images.acmesports.sports/Smart+watch   Smart watch         327.75   \n",
              "2  http://images.acmesports.sports/Smart+watch   Smart watch         327.75   \n",
              "3  http://images.acmesports.sports/Smart+watch   Smart watch         327.75   \n",
              "4  http://images.acmesports.sports/Smart+watch   Smart watch         327.75   \n",
              "\n",
              "  Product Status shipping date (DateOrders)   Shipping Mode  \n",
              "0              0             2/3/2018 22:56  Standard Class  \n",
              "1              0            1/18/2018 12:27  Standard Class  \n",
              "2              0            1/17/2018 12:06  Standard Class  \n",
              "3              0            1/16/2018 11:45  Standard Class  \n",
              "4              0            1/15/2018 11:24  Standard Class  \n",
              "\n",
              "[5 rows x 53 columns]"
            ],
            "text/html": [
              "\n",
              "\n",
              "  <div id=\"df-0c01e784-4ea5-43d4-b6b2-983e84af7bd2\">\n",
              "    <div class=\"colab-df-container\">\n",
              "      <div>\n",
              "<style scoped>\n",
              "    .dataframe tbody tr th:only-of-type {\n",
              "        vertical-align: middle;\n",
              "    }\n",
              "\n",
              "    .dataframe tbody tr th {\n",
              "        vertical-align: top;\n",
              "    }\n",
              "\n",
              "    .dataframe thead th {\n",
              "        text-align: right;\n",
              "    }\n",
              "</style>\n",
              "<table border=\"1\" class=\"dataframe\">\n",
              "  <thead>\n",
              "    <tr style=\"text-align: right;\">\n",
              "      <th></th>\n",
              "      <th>Type</th>\n",
              "      <th>Days for shipping (real)</th>\n",
              "      <th>Days for shipment (scheduled)</th>\n",
              "      <th>Benefit per order</th>\n",
              "      <th>Sales per customer</th>\n",
              "      <th>Delivery Status</th>\n",
              "      <th>Late_delivery_risk</th>\n",
              "      <th>Category Id</th>\n",
              "      <th>Category Name</th>\n",
              "      <th>Customer City</th>\n",
              "      <th>...</th>\n",
              "      <th>Order Zipcode</th>\n",
              "      <th>Product Card Id</th>\n",
              "      <th>Product Category Id</th>\n",
              "      <th>Product Description</th>\n",
              "      <th>Product Image</th>\n",
              "      <th>Product Name</th>\n",
              "      <th>Product Price</th>\n",
              "      <th>Product Status</th>\n",
              "      <th>shipping date (DateOrders)</th>\n",
              "      <th>Shipping Mode</th>\n",
              "    </tr>\n",
              "  </thead>\n",
              "  <tbody>\n",
              "    <tr>\n",
              "      <th>0</th>\n",
              "      <td>DEBIT</td>\n",
              "      <td>3</td>\n",
              "      <td>4</td>\n",
              "      <td>91.250000</td>\n",
              "      <td>314.640015</td>\n",
              "      <td>Advance shipping</td>\n",
              "      <td>0</td>\n",
              "      <td>73</td>\n",
              "      <td>Sporting Goods</td>\n",
              "      <td>Caguas</td>\n",
              "      <td>...</td>\n",
              "      <td>NaN</td>\n",
              "      <td>1360</td>\n",
              "      <td>73</td>\n",
              "      <td>NaN</td>\n",
              "      <td>http://images.acmesports.sports/Smart+watch</td>\n",
              "      <td>Smart watch</td>\n",
              "      <td>327.75</td>\n",
              "      <td>0</td>\n",
              "      <td>2/3/2018 22:56</td>\n",
              "      <td>Standard Class</td>\n",
              "    </tr>\n",
              "    <tr>\n",
              "      <th>1</th>\n",
              "      <td>TRANSFER</td>\n",
              "      <td>5</td>\n",
              "      <td>4</td>\n",
              "      <td>-249.089996</td>\n",
              "      <td>311.359985</td>\n",
              "      <td>Late delivery</td>\n",
              "      <td>1</td>\n",
              "      <td>73</td>\n",
              "      <td>Sporting Goods</td>\n",
              "      <td>Caguas</td>\n",
              "      <td>...</td>\n",
              "      <td>NaN</td>\n",
              "      <td>1360</td>\n",
              "      <td>73</td>\n",
              "      <td>NaN</td>\n",
              "      <td>http://images.acmesports.sports/Smart+watch</td>\n",
              "      <td>Smart watch</td>\n",
              "      <td>327.75</td>\n",
              "      <td>0</td>\n",
              "      <td>1/18/2018 12:27</td>\n",
              "      <td>Standard Class</td>\n",
              "    </tr>\n",
              "    <tr>\n",
              "      <th>2</th>\n",
              "      <td>CASH</td>\n",
              "      <td>4</td>\n",
              "      <td>4</td>\n",
              "      <td>-247.779999</td>\n",
              "      <td>309.720001</td>\n",
              "      <td>Shipping on time</td>\n",
              "      <td>0</td>\n",
              "      <td>73</td>\n",
              "      <td>Sporting Goods</td>\n",
              "      <td>San Jose</td>\n",
              "      <td>...</td>\n",
              "      <td>NaN</td>\n",
              "      <td>1360</td>\n",
              "      <td>73</td>\n",
              "      <td>NaN</td>\n",
              "      <td>http://images.acmesports.sports/Smart+watch</td>\n",
              "      <td>Smart watch</td>\n",
              "      <td>327.75</td>\n",
              "      <td>0</td>\n",
              "      <td>1/17/2018 12:06</td>\n",
              "      <td>Standard Class</td>\n",
              "    </tr>\n",
              "    <tr>\n",
              "      <th>3</th>\n",
              "      <td>DEBIT</td>\n",
              "      <td>3</td>\n",
              "      <td>4</td>\n",
              "      <td>22.860001</td>\n",
              "      <td>304.809998</td>\n",
              "      <td>Advance shipping</td>\n",
              "      <td>0</td>\n",
              "      <td>73</td>\n",
              "      <td>Sporting Goods</td>\n",
              "      <td>Los Angeles</td>\n",
              "      <td>...</td>\n",
              "      <td>NaN</td>\n",
              "      <td>1360</td>\n",
              "      <td>73</td>\n",
              "      <td>NaN</td>\n",
              "      <td>http://images.acmesports.sports/Smart+watch</td>\n",
              "      <td>Smart watch</td>\n",
              "      <td>327.75</td>\n",
              "      <td>0</td>\n",
              "      <td>1/16/2018 11:45</td>\n",
              "      <td>Standard Class</td>\n",
              "    </tr>\n",
              "    <tr>\n",
              "      <th>4</th>\n",
              "      <td>PAYMENT</td>\n",
              "      <td>2</td>\n",
              "      <td>4</td>\n",
              "      <td>134.210007</td>\n",
              "      <td>298.250000</td>\n",
              "      <td>Advance shipping</td>\n",
              "      <td>0</td>\n",
              "      <td>73</td>\n",
              "      <td>Sporting Goods</td>\n",
              "      <td>Caguas</td>\n",
              "      <td>...</td>\n",
              "      <td>NaN</td>\n",
              "      <td>1360</td>\n",
              "      <td>73</td>\n",
              "      <td>NaN</td>\n",
              "      <td>http://images.acmesports.sports/Smart+watch</td>\n",
              "      <td>Smart watch</td>\n",
              "      <td>327.75</td>\n",
              "      <td>0</td>\n",
              "      <td>1/15/2018 11:24</td>\n",
              "      <td>Standard Class</td>\n",
              "    </tr>\n",
              "  </tbody>\n",
              "</table>\n",
              "<p>5 rows × 53 columns</p>\n",
              "</div>\n",
              "      <button class=\"colab-df-convert\" onclick=\"convertToInteractive('df-0c01e784-4ea5-43d4-b6b2-983e84af7bd2')\"\n",
              "              title=\"Convert this dataframe to an interactive table.\"\n",
              "              style=\"display:none;\">\n",
              "\n",
              "  <svg xmlns=\"http://www.w3.org/2000/svg\" height=\"24px\"viewBox=\"0 0 24 24\"\n",
              "       width=\"24px\">\n",
              "    <path d=\"M0 0h24v24H0V0z\" fill=\"none\"/>\n",
              "    <path d=\"M18.56 5.44l.94 2.06.94-2.06 2.06-.94-2.06-.94-.94-2.06-.94 2.06-2.06.94zm-11 1L8.5 8.5l.94-2.06 2.06-.94-2.06-.94L8.5 2.5l-.94 2.06-2.06.94zm10 10l.94 2.06.94-2.06 2.06-.94-2.06-.94-.94-2.06-.94 2.06-2.06.94z\"/><path d=\"M17.41 7.96l-1.37-1.37c-.4-.4-.92-.59-1.43-.59-.52 0-1.04.2-1.43.59L10.3 9.45l-7.72 7.72c-.78.78-.78 2.05 0 2.83L4 21.41c.39.39.9.59 1.41.59.51 0 1.02-.2 1.41-.59l7.78-7.78 2.81-2.81c.8-.78.8-2.07 0-2.86zM5.41 20L4 18.59l7.72-7.72 1.47 1.35L5.41 20z\"/>\n",
              "  </svg>\n",
              "      </button>\n",
              "\n",
              "\n",
              "\n",
              "    <div id=\"df-786e9b5d-a6b2-4bc1-8725-18aa3e9efab9\">\n",
              "      <button class=\"colab-df-quickchart\" onclick=\"quickchart('df-786e9b5d-a6b2-4bc1-8725-18aa3e9efab9')\"\n",
              "              title=\"Suggest charts.\"\n",
              "              style=\"display:none;\">\n",
              "\n",
              "<svg xmlns=\"http://www.w3.org/2000/svg\" height=\"24px\"viewBox=\"0 0 24 24\"\n",
              "     width=\"24px\">\n",
              "    <g>\n",
              "        <path d=\"M19 3H5c-1.1 0-2 .9-2 2v14c0 1.1.9 2 2 2h14c1.1 0 2-.9 2-2V5c0-1.1-.9-2-2-2zM9 17H7v-7h2v7zm4 0h-2V7h2v10zm4 0h-2v-4h2v4z\"/>\n",
              "    </g>\n",
              "</svg>\n",
              "      </button>\n",
              "    </div>\n",
              "\n",
              "<style>\n",
              "  .colab-df-quickchart {\n",
              "    background-color: #E8F0FE;\n",
              "    border: none;\n",
              "    border-radius: 50%;\n",
              "    cursor: pointer;\n",
              "    display: none;\n",
              "    fill: #1967D2;\n",
              "    height: 32px;\n",
              "    padding: 0 0 0 0;\n",
              "    width: 32px;\n",
              "  }\n",
              "\n",
              "  .colab-df-quickchart:hover {\n",
              "    background-color: #E2EBFA;\n",
              "    box-shadow: 0px 1px 2px rgba(60, 64, 67, 0.3), 0px 1px 3px 1px rgba(60, 64, 67, 0.15);\n",
              "    fill: #174EA6;\n",
              "  }\n",
              "\n",
              "  [theme=dark] .colab-df-quickchart {\n",
              "    background-color: #3B4455;\n",
              "    fill: #D2E3FC;\n",
              "  }\n",
              "\n",
              "  [theme=dark] .colab-df-quickchart:hover {\n",
              "    background-color: #434B5C;\n",
              "    box-shadow: 0px 1px 3px 1px rgba(0, 0, 0, 0.15);\n",
              "    filter: drop-shadow(0px 1px 2px rgba(0, 0, 0, 0.3));\n",
              "    fill: #FFFFFF;\n",
              "  }\n",
              "</style>\n",
              "\n",
              "    <script>\n",
              "      async function quickchart(key) {\n",
              "        const containerElement = document.querySelector('#' + key);\n",
              "        const charts = await google.colab.kernel.invokeFunction(\n",
              "            'suggestCharts', [key], {});\n",
              "      }\n",
              "    </script>\n",
              "\n",
              "      <script>\n",
              "\n",
              "function displayQuickchartButton(domScope) {\n",
              "  let quickchartButtonEl =\n",
              "    domScope.querySelector('#df-786e9b5d-a6b2-4bc1-8725-18aa3e9efab9 button.colab-df-quickchart');\n",
              "  quickchartButtonEl.style.display =\n",
              "    google.colab.kernel.accessAllowed ? 'block' : 'none';\n",
              "}\n",
              "\n",
              "        displayQuickchartButton(document);\n",
              "      </script>\n",
              "      <style>\n",
              "    .colab-df-container {\n",
              "      display:flex;\n",
              "      flex-wrap:wrap;\n",
              "      gap: 12px;\n",
              "    }\n",
              "\n",
              "    .colab-df-convert {\n",
              "      background-color: #E8F0FE;\n",
              "      border: none;\n",
              "      border-radius: 50%;\n",
              "      cursor: pointer;\n",
              "      display: none;\n",
              "      fill: #1967D2;\n",
              "      height: 32px;\n",
              "      padding: 0 0 0 0;\n",
              "      width: 32px;\n",
              "    }\n",
              "\n",
              "    .colab-df-convert:hover {\n",
              "      background-color: #E2EBFA;\n",
              "      box-shadow: 0px 1px 2px rgba(60, 64, 67, 0.3), 0px 1px 3px 1px rgba(60, 64, 67, 0.15);\n",
              "      fill: #174EA6;\n",
              "    }\n",
              "\n",
              "    [theme=dark] .colab-df-convert {\n",
              "      background-color: #3B4455;\n",
              "      fill: #D2E3FC;\n",
              "    }\n",
              "\n",
              "    [theme=dark] .colab-df-convert:hover {\n",
              "      background-color: #434B5C;\n",
              "      box-shadow: 0px 1px 3px 1px rgba(0, 0, 0, 0.15);\n",
              "      filter: drop-shadow(0px 1px 2px rgba(0, 0, 0, 0.3));\n",
              "      fill: #FFFFFF;\n",
              "    }\n",
              "  </style>\n",
              "\n",
              "      <script>\n",
              "        const buttonEl =\n",
              "          document.querySelector('#df-0c01e784-4ea5-43d4-b6b2-983e84af7bd2 button.colab-df-convert');\n",
              "        buttonEl.style.display =\n",
              "          google.colab.kernel.accessAllowed ? 'block' : 'none';\n",
              "\n",
              "        async function convertToInteractive(key) {\n",
              "          const element = document.querySelector('#df-0c01e784-4ea5-43d4-b6b2-983e84af7bd2');\n",
              "          const dataTable =\n",
              "            await google.colab.kernel.invokeFunction('convertToInteractive',\n",
              "                                                     [key], {});\n",
              "          if (!dataTable) return;\n",
              "\n",
              "          const docLinkHtml = 'Like what you see? Visit the ' +\n",
              "            '<a target=\"_blank\" href=https://colab.research.google.com/notebooks/data_table.ipynb>data table notebook</a>'\n",
              "            + ' to learn more about interactive tables.';\n",
              "          element.innerHTML = '';\n",
              "          dataTable['output_type'] = 'display_data';\n",
              "          await google.colab.output.renderOutput(dataTable, element);\n",
              "          const docLink = document.createElement('div');\n",
              "          docLink.innerHTML = docLinkHtml;\n",
              "          element.appendChild(docLink);\n",
              "        }\n",
              "      </script>\n",
              "    </div>\n",
              "  </div>\n"
            ]
          },
          "metadata": {},
          "execution_count": 7
        }
      ]
    },
    {
      "cell_type": "code",
      "source": [
        "df.shape"
      ],
      "metadata": {
        "colab": {
          "base_uri": "https://localhost:8080/"
        },
        "id": "hkSFNiFHxNrX",
        "outputId": "e3aae566-91cb-43bd-f859-8046ace148ad"
      },
      "execution_count": null,
      "outputs": [
        {
          "output_type": "execute_result",
          "data": {
            "text/plain": [
              "(21854, 53)"
            ]
          },
          "metadata": {},
          "execution_count": 5
        }
      ]
    },
    {
      "cell_type": "code",
      "source": [
        "df.info()"
      ],
      "metadata": {
        "colab": {
          "base_uri": "https://localhost:8080/"
        },
        "id": "w3M4rHqcxNn_",
        "outputId": "50951ae4-6363-41be-fee5-c759c1f57128"
      },
      "execution_count": null,
      "outputs": [
        {
          "output_type": "stream",
          "name": "stdout",
          "text": [
            "<class 'pandas.core.frame.DataFrame'>\n",
            "RangeIndex: 21854 entries, 0 to 21853\n",
            "Data columns (total 53 columns):\n",
            " #   Column                         Non-Null Count  Dtype  \n",
            "---  ------                         --------------  -----  \n",
            " 0   Type                           21854 non-null  object \n",
            " 1   Days for shipping (real)       21854 non-null  int64  \n",
            " 2   Days for shipment (scheduled)  21854 non-null  int64  \n",
            " 3   Benefit per order              21854 non-null  float64\n",
            " 4   Sales per customer             21854 non-null  float64\n",
            " 5   Delivery Status                21854 non-null  object \n",
            " 6   Late_delivery_risk             21854 non-null  int64  \n",
            " 7   Category Id                    21854 non-null  int64  \n",
            " 8   Category Name                  21854 non-null  object \n",
            " 9   Customer City                  21854 non-null  object \n",
            " 10  Customer Country               21854 non-null  object \n",
            " 11  Customer Email                 21854 non-null  object \n",
            " 12  Customer Fname                 21854 non-null  object \n",
            " 13  Customer Id                    21854 non-null  int64  \n",
            " 14  Customer Lname                 21854 non-null  object \n",
            " 15  Customer Password              21854 non-null  object \n",
            " 16  Customer Segment               21854 non-null  object \n",
            " 17  Customer State                 21854 non-null  object \n",
            " 18  Customer Street                21854 non-null  object \n",
            " 19  Customer Zipcode               21854 non-null  int64  \n",
            " 20  Department Id                  21854 non-null  int64  \n",
            " 21  Department Name                21854 non-null  object \n",
            " 22  Latitude                       21854 non-null  float64\n",
            " 23  Longitude                      21854 non-null  float64\n",
            " 24  Market                         21854 non-null  object \n",
            " 25  Order City                     21854 non-null  object \n",
            " 26  Order Country                  21854 non-null  object \n",
            " 27  Order Customer Id              21854 non-null  int64  \n",
            " 28  order date (DateOrders)        21854 non-null  object \n",
            " 29  Order Id                       21854 non-null  int64  \n",
            " 30  Order Item Cardprod Id         21854 non-null  int64  \n",
            " 31  Order Item Discount            21854 non-null  float64\n",
            " 32  Order Item Discount Rate       21854 non-null  float64\n",
            " 33  Order Item Id                  21854 non-null  int64  \n",
            " 34  Order Item Product Price       21854 non-null  float64\n",
            " 35  Order Item Profit Ratio        21854 non-null  float64\n",
            " 36  Order Item Quantity            21854 non-null  int64  \n",
            " 37  Sales                          21854 non-null  float64\n",
            " 38  Order Item Total               21854 non-null  float64\n",
            " 39  Order Profit Per Order         21854 non-null  float64\n",
            " 40  Order Region                   21854 non-null  object \n",
            " 41  Order State                    21854 non-null  object \n",
            " 42  Order Status                   21854 non-null  object \n",
            " 43  Order Zipcode                  2817 non-null   float64\n",
            " 44  Product Card Id                21854 non-null  int64  \n",
            " 45  Product Category Id            21854 non-null  int64  \n",
            " 46  Product Description            0 non-null      float64\n",
            " 47  Product Image                  21854 non-null  object \n",
            " 48  Product Name                   21854 non-null  object \n",
            " 49  Product Price                  21853 non-null  float64\n",
            " 50  Product Status                 21853 non-null  float64\n",
            " 51  shipping date (DateOrders)     21853 non-null  object \n",
            " 52  Shipping Mode                  21853 non-null  object \n",
            "dtypes: float64(15), int64(14), object(24)\n",
            "memory usage: 8.8+ MB\n"
          ]
        }
      ]
    },
    {
      "cell_type": "code",
      "source": [
        "df.isnull().sum()"
      ],
      "metadata": {
        "colab": {
          "base_uri": "https://localhost:8080/"
        },
        "id": "d95Mc68PxVuB",
        "outputId": "9993ee33-e2ad-42b3-ef90-a8c7e0827cea"
      },
      "execution_count": null,
      "outputs": [
        {
          "output_type": "execute_result",
          "data": {
            "text/plain": [
              "Type                                 0\n",
              "Days for shipping (real)             0\n",
              "Days for shipment (scheduled)        0\n",
              "Benefit per order                    0\n",
              "Sales per customer                   0\n",
              "Delivery Status                      0\n",
              "Late_delivery_risk                   0\n",
              "Category Id                          0\n",
              "Category Name                        0\n",
              "Customer City                        0\n",
              "Customer Country                     0\n",
              "Customer Email                       0\n",
              "Customer Fname                       0\n",
              "Customer Id                          0\n",
              "Customer Lname                       0\n",
              "Customer Password                    0\n",
              "Customer Segment                     0\n",
              "Customer State                       0\n",
              "Customer Street                      0\n",
              "Customer Zipcode                     0\n",
              "Department Id                        0\n",
              "Department Name                      0\n",
              "Latitude                             0\n",
              "Longitude                            0\n",
              "Market                               0\n",
              "Order City                           0\n",
              "Order Country                        0\n",
              "Order Customer Id                    0\n",
              "order date (DateOrders)              0\n",
              "Order Id                             0\n",
              "Order Item Cardprod Id               0\n",
              "Order Item Discount                  0\n",
              "Order Item Discount Rate             0\n",
              "Order Item Id                        0\n",
              "Order Item Product Price             0\n",
              "Order Item Profit Ratio              0\n",
              "Order Item Quantity                  0\n",
              "Sales                                0\n",
              "Order Item Total                     0\n",
              "Order Profit Per Order               0\n",
              "Order Region                         0\n",
              "Order State                          0\n",
              "Order Status                         0\n",
              "Order Zipcode                    19037\n",
              "Product Card Id                      0\n",
              "Product Category Id                  0\n",
              "Product Description              21854\n",
              "Product Image                        0\n",
              "Product Name                         0\n",
              "Product Price                        1\n",
              "Product Status                       1\n",
              "shipping date (DateOrders)           1\n",
              "Shipping Mode                        1\n",
              "dtype: int64"
            ]
          },
          "metadata": {},
          "execution_count": 7
        }
      ]
    },
    {
      "cell_type": "code",
      "source": [
        "print(df.columns)"
      ],
      "metadata": {
        "colab": {
          "base_uri": "https://localhost:8080/"
        },
        "id": "aMU9HbglxZi3",
        "outputId": "d39e6c78-d248-4086-a474-ffd015ac2e4e"
      },
      "execution_count": null,
      "outputs": [
        {
          "output_type": "stream",
          "name": "stdout",
          "text": [
            "Index(['Type', 'Days for shipping (real)', 'Days for shipment (scheduled)',\n",
            "       'Benefit per order', 'Sales per customer', 'Delivery Status',\n",
            "       'Late_delivery_risk', 'Category Id', 'Category Name', 'Customer City',\n",
            "       'Customer Country', 'Customer Email', 'Customer Fname', 'Customer Id',\n",
            "       'Customer Lname', 'Customer Password', 'Customer Segment',\n",
            "       'Customer State', 'Customer Street', 'Customer Zipcode',\n",
            "       'Department Id', 'Department Name', 'Latitude', 'Longitude', 'Market',\n",
            "       'Order City', 'Order Country', 'Order Customer Id',\n",
            "       'order date (DateOrders)', 'Order Id', 'Order Item Cardprod Id',\n",
            "       'Order Item Discount', 'Order Item Discount Rate', 'Order Item Id',\n",
            "       'Order Item Product Price', 'Order Item Profit Ratio',\n",
            "       'Order Item Quantity', 'Sales', 'Order Item Total',\n",
            "       'Order Profit Per Order', 'Order Region', 'Order State', 'Order Status',\n",
            "       'Order Zipcode', 'Product Card Id', 'Product Category Id',\n",
            "       'Product Description', 'Product Image', 'Product Name', 'Product Price',\n",
            "       'Product Status', 'shipping date (DateOrders)', 'Shipping Mode'],\n",
            "      dtype='object')\n"
          ]
        }
      ]
    },
    {
      "cell_type": "code",
      "source": [
        "df['Cust_Full_Name'] = df['Customer Fname'].astype(str) + df['Customer Lname'].astype(str)"
      ],
      "metadata": {
        "id": "D4JFZRjs5dU0"
      },
      "execution_count": null,
      "outputs": []
    },
    {
      "cell_type": "code",
      "source": [
        "df.drop(['Customer Email','Product Status','Customer Password','Customer Street','Customer Fname',\n",
        "         'Customer Lname','Latitude','Longitude','Product Description','Product Image','Order Zipcode',\n",
        "         'shipping date (DateOrders)'],axis=1, inplace = True)"
      ],
      "metadata": {
        "id": "n1ARDpCR5jRQ"
      },
      "execution_count": null,
      "outputs": []
    },
    {
      "cell_type": "code",
      "source": [
        "df.shape"
      ],
      "metadata": {
        "colab": {
          "base_uri": "https://localhost:8080/"
        },
        "id": "GClf1KUN5n7O",
        "outputId": "e178ccd1-3152-4dc8-ba69-fc89ae82724f"
      },
      "execution_count": null,
      "outputs": [
        {
          "output_type": "execute_result",
          "data": {
            "text/plain": [
              "(21854, 42)"
            ]
          },
          "metadata": {},
          "execution_count": 11
        }
      ]
    },
    {
      "cell_type": "code",
      "source": [
        "df.isnull().sum()"
      ],
      "metadata": {
        "colab": {
          "base_uri": "https://localhost:8080/"
        },
        "id": "CfW4TN2P5q3V",
        "outputId": "8b19fe7a-7f7a-4daa-edba-126ebe928d28"
      },
      "execution_count": null,
      "outputs": [
        {
          "output_type": "execute_result",
          "data": {
            "text/plain": [
              "Type                             0\n",
              "Days for shipping (real)         0\n",
              "Days for shipment (scheduled)    0\n",
              "Benefit per order                0\n",
              "Sales per customer               0\n",
              "Delivery Status                  0\n",
              "Late_delivery_risk               0\n",
              "Category Id                      0\n",
              "Category Name                    0\n",
              "Customer City                    0\n",
              "Customer Country                 0\n",
              "Customer Id                      0\n",
              "Customer Segment                 0\n",
              "Customer State                   0\n",
              "Customer Zipcode                 0\n",
              "Department Id                    0\n",
              "Department Name                  0\n",
              "Market                           0\n",
              "Order City                       0\n",
              "Order Country                    0\n",
              "Order Customer Id                0\n",
              "order date (DateOrders)          0\n",
              "Order Id                         0\n",
              "Order Item Cardprod Id           0\n",
              "Order Item Discount              0\n",
              "Order Item Discount Rate         0\n",
              "Order Item Id                    0\n",
              "Order Item Product Price         0\n",
              "Order Item Profit Ratio          0\n",
              "Order Item Quantity              0\n",
              "Sales                            0\n",
              "Order Item Total                 0\n",
              "Order Profit Per Order           0\n",
              "Order Region                     0\n",
              "Order State                      0\n",
              "Order Status                     0\n",
              "Product Card Id                  0\n",
              "Product Category Id              0\n",
              "Product Name                     0\n",
              "Product Price                    1\n",
              "Shipping Mode                    1\n",
              "Cust_Full_Name                   0\n",
              "dtype: int64"
            ]
          },
          "metadata": {},
          "execution_count": 12
        }
      ]
    },
    {
      "cell_type": "code",
      "source": [
        "df['Customer Zipcode'] = df['Customer Zipcode'].fillna(0)"
      ],
      "metadata": {
        "id": "eEvJ4Rd05uSb"
      },
      "execution_count": null,
      "outputs": []
    },
    {
      "cell_type": "code",
      "source": [
        "df['order date (DateOrders)'].head()"
      ],
      "metadata": {
        "colab": {
          "base_uri": "https://localhost:8080/"
        },
        "id": "IG2hhwdX50MO",
        "outputId": "c8b0acb7-0665-434e-88b6-ee60a8e8f803"
      },
      "execution_count": null,
      "outputs": [
        {
          "output_type": "execute_result",
          "data": {
            "text/plain": [
              "0    1/31/2018 22:56\n",
              "1    1/13/2018 12:27\n",
              "2    1/13/2018 12:06\n",
              "3    1/13/2018 11:45\n",
              "4    1/13/2018 11:24\n",
              "Name: order date (DateOrders), dtype: object"
            ]
          },
          "metadata": {},
          "execution_count": 14
        }
      ]
    },
    {
      "cell_type": "code",
      "source": [
        "## Splitting Order dates and creating new columns\n",
        "df['order_yr']= pd.DatetimeIndex(df['order date (DateOrders)']).year\n",
        "df['order_month'] = pd.DatetimeIndex(df['order date (DateOrders)']).month\n",
        "df['order_day'] = pd.DatetimeIndex(df['order date (DateOrders)']).weekday\n",
        "df['order_hour'] = pd.DatetimeIndex(df['order date (DateOrders)']).hour"
      ],
      "metadata": {
        "id": "h5WMw2nc55ZE"
      },
      "execution_count": null,
      "outputs": []
    },
    {
      "cell_type": "code",
      "source": [
        "plt.style.use(\"dark_background\")\n",
        "fig, ax = plt.subplots(figsize=(25,10))         # figsize\n",
        "sns.heatmap(df.corr(),annot=True, linewidths=.3 ,fmt='.1g', cmap= 'coolwarm')"
      ],
      "metadata": {
        "colab": {
          "base_uri": "https://localhost:8080/",
          "height": 854
        },
        "id": "IgAecvrM57rC",
        "outputId": "da4f9944-6aa8-412e-d803-e137874cdf80"
      },
      "execution_count": null,
      "outputs": [
        {
          "output_type": "stream",
          "name": "stderr",
          "text": [
            "<ipython-input-16-72df4396ecf7>:3: FutureWarning:\n",
            "\n",
            "The default value of numeric_only in DataFrame.corr is deprecated. In a future version, it will default to False. Select only valid columns or specify the value of numeric_only to silence this warning.\n",
            "\n"
          ]
        },
        {
          "output_type": "execute_result",
          "data": {
            "text/plain": [
              "<Axes: >"
            ]
          },
          "metadata": {},
          "execution_count": 16
        },
        {
          "output_type": "display_data",
          "data": {
            "text/plain": [
              "<Figure size 2500x1000 with 2 Axes>"
            ],
            "image/png": "[encoded data removed]"
          },
          "metadata": {}
        }
      ]
    },
    {
      "cell_type": "code",
      "source": [
        "loss = df[(df['Benefit per order']<0)]"
      ],
      "metadata": {
        "id": "immvS2Ev5_gO"
      },
      "execution_count": null,
      "outputs": []
    },
    {
      "cell_type": "code",
      "source": [
        "plt.figure(1)\n",
        "loss['Category Name'].value_counts().nlargest(10).plot.bar(figsize=(15,7), title=\"Most Loss Making Products\")\n",
        "plt.xticks(rotation = 45)\n",
        "plt.figure(2)\n",
        "loss['Market'].value_counts().nlargest(10).plot.bar(figsize=(15,7), title=\"Most Loss Making Market\")\n",
        "plt.xticks(rotation = 45)"
      ],
      "metadata": {
        "colab": {
          "base_uri": "https://localhost:8080/",
          "height": 1000
        },
        "id": "lGSKHeR76CdD",
        "outputId": "3b0dddd1-dd3a-48ca-eba3-8235851e5192"
      },
      "execution_count": null,
      "outputs": [
        {
          "output_type": "execute_result",
          "data": {
            "text/plain": [
              "(array([0, 1, 2, 3, 4]),\n",
              " [Text(0, 0, 'Europe'),\n",
              "  Text(1, 0, 'Pacific Asia'),\n",
              "  Text(2, 0, 'LATAM'),\n",
              "  Text(3, 0, 'USCA'),\n",
              "  Text(4, 0, 'Africa')])"
            ]
          },
          "metadata": {},
          "execution_count": 18
        },
        {
          "output_type": "display_data",
          "data": {
            "text/plain": [
              "<Figure size 1500x700 with 1 Axes>"
            ],
            "image/png": "[encoded data removed]"
          },
          "metadata": {}
        },
        {
          "output_type": "display_data",
          "data": {
            "text/plain": [
              "<Figure size 1500x700 with 1 Axes>"
            ],
            "image/png": "[encoded data removed]"
          },
          "metadata": {}
        }
      ]
    },
    {
      "cell_type": "code",
      "source": [
        "status = df.groupby('Type')['Order Status'].value_counts()\n",
        "status_df = status.to_frame()"
      ],
      "metadata": {
        "id": "q30L11-Z6GKS"
      },
      "execution_count": null,
      "outputs": []
    },
    {
      "cell_type": "code",
      "source": [
        "status_df"
      ],
      "metadata": {
        "colab": {
          "base_uri": "https://localhost:8080/",
          "height": 363
        },
        "id": "yciSnn566IOG",
        "outputId": "eac69eb4-56ed-4c76-c556-fb99d58a5b5a"
      },
      "execution_count": null,
      "outputs": [
        {
          "output_type": "execute_result",
          "data": {
            "text/plain": [
              "                          Order Status\n",
              "Type     Order Status                 \n",
              "CASH     CLOSED                   4312\n",
              "DEBIT    COMPLETE                 7858\n",
              "         ON_HOLD                  1245\n",
              "PAYMENT  PENDING_PAYMENT          3330\n",
              "         PAYMENT_REVIEW            168\n",
              "TRANSFER PROCESSING               2216\n",
              "         PENDING                  1947\n",
              "         SUSPECTED_FRAUD           414\n",
              "         CANCELED                  364"
            ],
            "text/html": [
              "\n",
              "\n",
              "  <div id=\"df-c50c00bd-a661-445e-a4c8-d73dd4a25c53\">\n",
              "    <div class=\"colab-df-container\">\n",
              "      <div>\n",
              "<style scoped>\n",
              "    .dataframe tbody tr th:only-of-type {\n",
              "        vertical-align: middle;\n",
              "    }\n",
              "\n",
              "    .dataframe tbody tr th {\n",
              "        vertical-align: top;\n",
              "    }\n",
              "\n",
              "    .dataframe thead th {\n",
              "        text-align: right;\n",
              "    }\n",
              "</style>\n",
              "<table border=\"1\" class=\"dataframe\">\n",
              "  <thead>\n",
              "    <tr style=\"text-align: right;\">\n",
              "      <th></th>\n",
              "      <th></th>\n",
              "      <th>Order Status</th>\n",
              "    </tr>\n",
              "    <tr>\n",
              "      <th>Type</th>\n",
              "      <th>Order Status</th>\n",
              "      <th></th>\n",
              "    </tr>\n",
              "  </thead>\n",
              "  <tbody>\n",
              "    <tr>\n",
              "      <th>CASH</th>\n",
              "      <th>CLOSED</th>\n",
              "      <td>4312</td>\n",
              "    </tr>\n",
              "    <tr>\n",
              "      <th rowspan=\"2\" valign=\"top\">DEBIT</th>\n",
              "      <th>COMPLETE</th>\n",
              "      <td>7858</td>\n",
              "    </tr>\n",
              "    <tr>\n",
              "      <th>ON_HOLD</th>\n",
              "      <td>1245</td>\n",
              "    </tr>\n",
              "    <tr>\n",
              "      <th rowspan=\"2\" valign=\"top\">PAYMENT</th>\n",
              "      <th>PENDING_PAYMENT</th>\n",
              "      <td>3330</td>\n",
              "    </tr>\n",
              "    <tr>\n",
              "      <th>PAYMENT_REVIEW</th>\n",
              "      <td>168</td>\n",
              "    </tr>\n",
              "    <tr>\n",
              "      <th rowspan=\"4\" valign=\"top\">TRANSFER</th>\n",
              "      <th>PROCESSING</th>\n",
              "      <td>2216</td>\n",
              "    </tr>\n",
              "    <tr>\n",
              "      <th>PENDING</th>\n",
              "      <td>1947</td>\n",
              "    </tr>\n",
              "    <tr>\n",
              "      <th>SUSPECTED_FRAUD</th>\n",
              "      <td>414</td>\n",
              "    </tr>\n",
              "    <tr>\n",
              "      <th>CANCELED</th>\n",
              "      <td>364</td>\n",
              "    </tr>\n",
              "  </tbody>\n",
              "</table>\n",
              "</div>\n",
              "      <button class=\"colab-df-convert\" onclick=\"convertToInteractive('df-c50c00bd-a661-445e-a4c8-d73dd4a25c53')\"\n",
              "              title=\"Convert this dataframe to an interactive table.\"\n",
              "              style=\"display:none;\">\n",
              "\n",
              "  <svg xmlns=\"http://www.w3.org/2000/svg\" height=\"24px\"viewBox=\"0 0 24 24\"\n",
              "       width=\"24px\">\n",
              "    <path d=\"M0 0h24v24H0V0z\" fill=\"none\"/>\n",
              "    <path d=\"M18.56 5.44l.94 2.06.94-2.06 2.06-.94-2.06-.94-.94-2.06-.94 2.06-2.06.94zm-11 1L8.5 8.5l.94-2.06 2.06-.94-2.06-.94L8.5 2.5l-.94 2.06-2.06.94zm10 10l.94 2.06.94-2.06 2.06-.94-2.06-.94-.94-2.06-.94 2.06-2.06.94z\"/><path d=\"M17.41 7.96l-1.37-1.37c-.4-.4-.92-.59-1.43-.59-.52 0-1.04.2-1.43.59L10.3 9.45l-7.72 7.72c-.78.78-.78 2.05 0 2.83L4 21.41c.39.39.9.59 1.41.59.51 0 1.02-.2 1.41-.59l7.78-7.78 2.81-2.81c.8-.78.8-2.07 0-2.86zM5.41 20L4 18.59l7.72-7.72 1.47 1.35L5.41 20z\"/>\n",
              "  </svg>\n",
              "      </button>\n",
              "\n",
              "\n",
              "\n",
              "    <div id=\"df-830a29db-4d95-45ed-8c81-67f0d203720e\">\n",
              "      <button class=\"colab-df-quickchart\" onclick=\"quickchart('df-830a29db-4d95-45ed-8c81-67f0d203720e')\"\n",
              "              title=\"Suggest charts.\"\n",
              "              style=\"display:none;\">\n",
              "\n",
              "<svg xmlns=\"http://www.w3.org/2000/svg\" height=\"24px\"viewBox=\"0 0 24 24\"\n",
              "     width=\"24px\">\n",
              "    <g>\n",
              "        <path d=\"M19 3H5c-1.1 0-2 .9-2 2v14c0 1.1.9 2 2 2h14c1.1 0 2-.9 2-2V5c0-1.1-.9-2-2-2zM9 17H7v-7h2v7zm4 0h-2V7h2v10zm4 0h-2v-4h2v4z\"/>\n",
              "    </g>\n",
              "</svg>\n",
              "      </button>\n",
              "    </div>\n",
              "\n",
              "<style>\n",
              "  .colab-df-quickchart {\n",
              "    background-color: #E8F0FE;\n",
              "    border: none;\n",
              "    border-radius: 50%;\n",
              "    cursor: pointer;\n",
              "    display: none;\n",
              "    fill: #1967D2;\n",
              "    height: 32px;\n",
              "    padding: 0 0 0 0;\n",
              "    width: 32px;\n",
              "  }\n",
              "\n",
              "  .colab-df-quickchart:hover {\n",
              "    background-color: #E2EBFA;\n",
              "    box-shadow: 0px 1px 2px rgba(60, 64, 67, 0.3), 0px 1px 3px 1px rgba(60, 64, 67, 0.15);\n",
              "    fill: #174EA6;\n",
              "  }\n",
              "\n",
              "  [theme=dark] .colab-df-quickchart {\n",
              "    background-color: #3B4455;\n",
              "    fill: #D2E3FC;\n",
              "  }\n",
              "\n",
              "  [theme=dark] .colab-df-quickchart:hover {\n",
              "    background-color: #434B5C;\n",
              "    box-shadow: 0px 1px 3px 1px rgba(0, 0, 0, 0.15);\n",
              "    filter: drop-shadow(0px 1px 2px rgba(0, 0, 0, 0.3));\n",
              "    fill: #FFFFFF;\n",
              "  }\n",
              "</style>\n",
              "\n",
              "    <script>\n",
              "      async function quickchart(key) {\n",
              "        const containerElement = document.querySelector('#' + key);\n",
              "        const charts = await google.colab.kernel.invokeFunction(\n",
              "            'suggestCharts', [key], {});\n",
              "      }\n",
              "    </script>\n",
              "\n",
              "      <script>\n",
              "\n",
              "function displayQuickchartButton(domScope) {\n",
              "  let quickchartButtonEl =\n",
              "    domScope.querySelector('#df-830a29db-4d95-45ed-8c81-67f0d203720e button.colab-df-quickchart');\n",
              "  quickchartButtonEl.style.display =\n",
              "    google.colab.kernel.accessAllowed ? 'block' : 'none';\n",
              "}\n",
              "\n",
              "        displayQuickchartButton(document);\n",
              "      </script>\n",
              "      <style>\n",
              "    .colab-df-container {\n",
              "      display:flex;\n",
              "      flex-wrap:wrap;\n",
              "      gap: 12px;\n",
              "    }\n",
              "\n",
              "    .colab-df-convert {\n",
              "      background-color: #E8F0FE;\n",
              "      border: none;\n",
              "      border-radius: 50%;\n",
              "      cursor: pointer;\n",
              "      display: none;\n",
              "      fill: #1967D2;\n",
              "      height: 32px;\n",
              "      padding: 0 0 0 0;\n",
              "      width: 32px;\n",
              "    }\n",
              "\n",
              "    .colab-df-convert:hover {\n",
              "      background-color: #E2EBFA;\n",
              "      box-shadow: 0px 1px 2px rgba(60, 64, 67, 0.3), 0px 1px 3px 1px rgba(60, 64, 67, 0.15);\n",
              "      fill: #174EA6;\n",
              "    }\n",
              "\n",
              "    [theme=dark] .colab-df-convert {\n",
              "      background-color: #3B4455;\n",
              "      fill: #D2E3FC;\n",
              "    }\n",
              "\n",
              "    [theme=dark] .colab-df-convert:hover {\n",
              "      background-color: #434B5C;\n",
              "      box-shadow: 0px 1px 3px 1px rgba(0, 0, 0, 0.15);\n",
              "      filter: drop-shadow(0px 1px 2px rgba(0, 0, 0, 0.3));\n",
              "      fill: #FFFFFF;\n",
              "    }\n",
              "  </style>\n",
              "\n",
              "      <script>\n",
              "        const buttonEl =\n",
              "          document.querySelector('#df-c50c00bd-a661-445e-a4c8-d73dd4a25c53 button.colab-df-convert');\n",
              "        buttonEl.style.display =\n",
              "          google.colab.kernel.accessAllowed ? 'block' : 'none';\n",
              "\n",
              "        async function convertToInteractive(key) {\n",
              "          const element = document.querySelector('#df-c50c00bd-a661-445e-a4c8-d73dd4a25c53');\n",
              "          const dataTable =\n",
              "            await google.colab.kernel.invokeFunction('convertToInteractive',\n",
              "                                                     [key], {});\n",
              "          if (!dataTable) return;\n",
              "\n",
              "          const docLinkHtml = 'Like what you see? Visit the ' +\n",
              "            '<a target=\"_blank\" href=https://colab.research.google.com/notebooks/data_table.ipynb>data table notebook</a>'\n",
              "            + ' to learn more about interactive tables.';\n",
              "          element.innerHTML = '';\n",
              "          dataTable['output_type'] = 'display_data';\n",
              "          await google.colab.output.renderOutput(dataTable, element);\n",
              "          const docLink = document.createElement('div');\n",
              "          docLink.innerHTML = docLinkHtml;\n",
              "          element.appendChild(docLink);\n",
              "        }\n",
              "      </script>\n",
              "    </div>\n",
              "  </div>\n"
            ]
          },
          "metadata": {},
          "execution_count": 20
        }
      ]
    },
    {
      "cell_type": "code",
      "source": [
        "fraud_region = df[(df['Order Status'] == 'SUSPECTED_FRAUD')]"
      ],
      "metadata": {
        "id": "l5-AlMZH6KqD"
      },
      "execution_count": null,
      "outputs": []
    },
    {
      "cell_type": "code",
      "source": [
        "plt.style.use(\"dark_background\")\n",
        "temp = fraud_region['Category Name'].value_counts().nlargest(10)\n",
        "temp.iplot(kind='bar', xTitle = 'Category', yTitle = \"Count\", title = 'Count of Products with suspected fraud', color = '#FF0000')"
      ],
      "metadata": {
        "colab": {
          "base_uri": "https://localhost:8080/",
          "height": 542
        },
        "id": "JLD5DVrE6O1B",
        "outputId": "86c9d2e9-7c8f-44c5-a72e-a695915ba2ec"
      },
      "execution_count": null,
      "outputs": [
        {
          "output_type": "display_data",
          "data": {
            "application/vnd.plotly.v1+json": {
              "data": [
                {
                  "marker": {
                    "color": "rgba(255, 0, 0, 0.6)",
                    "line": {
                      "color": "rgba(255, 0, 0, 1.0)",
                      "width": 1
                    }
                  },
                  "name": "Category Name",
                  "orientation": "v",
                  "text": "",
                  "x": [
                    "Cleats",
                    "Women's Apparel",
                    "Cardio Equipment",
                    "Shop By Sport",
                    "Electronics",
                    "Men's Footwear",
                    "Sporting Goods",
                    "Hockey",
                    "Camping & Hiking",
                    "Girls' Apparel"
                  ],
                  "y": [
                    103,
                    93,
                    57,
                    56,
                    22,
                    14,
                    12,
                    12,
                    9,
                    8
                  ],
                  "type": "bar"
                }
              ],
              "layout": {
                "legend": {
                  "bgcolor": "#F5F6F9",
                  "font": {
                    "color": "#4D5663"
                  }
                },
                "paper_bgcolor": "#F5F6F9",
                "plot_bgcolor": "#F5F6F9",
                "template": {
                  "data": {
                    "barpolar": [
                      {
                        "marker": {
                          "line": {
                            "color": "#E5ECF6",
                            "width": 0.5
                          },
                          "pattern": {
                            "fillmode": "overlay",
                            "size": 10,
                            "solidity": 0.2
                          }
                        },
                        "type": "barpolar"
                      }
                    ],
                    "bar": [
                      {
                        "error_x": {
                          "color": "#2a3f5f"
                        },
                        "error_y": {
                          "color": "#2a3f5f"
                        },
                        "marker": {
                          "line": {
                            "color": "#E5ECF6",
                            "width": 0.5
                          },
                          "pattern": {
                            "fillmode": "overlay",
                            "size": 10,
                            "solidity": 0.2
                          }
                        },
                        "type": "bar"
                      }
                    ],
                    "carpet": [
                      {
                        "aaxis": {
                          "endlinecolor": "#2a3f5f",
                          "gridcolor": "white",
                          "linecolor": "white",
                          "minorgridcolor": "white",
                          "startlinecolor": "#2a3f5f"
                        },
                        "baxis": {
                          "endlinecolor": "#2a3f5f",
                          "gridcolor": "white",
                          "linecolor": "white",
                          "minorgridcolor": "white",
                          "startlinecolor": "#2a3f5f"
                        },
                        "type": "carpet"
                      }
                    ],
                    "choropleth": [
                      {
                        "colorbar": {
                          "outlinewidth": 0,
                          "ticks": ""
                        },
                        "type": "choropleth"
                      }
                    ],
                    "contourcarpet": [
                      {
                        "colorbar": {
                          "outlinewidth": 0,
                          "ticks": ""
                        },
                        "type": "contourcarpet"
                      }
                    ],
                    "contour": [
                      {
                        "colorbar": {
                          "outlinewidth": 0,
                          "ticks": ""
                        },
                        "colorscale": [
                          [
                            0,
                            "#0d0887"
                          ],
                          [
                            0.1111111111111111,
                            "#46039f"
                          ],
                          [
                            0.2222222222222222,
                            "#7201a8"
                          ],
                          [
                            0.3333333333333333,
                            "#9c179e"
                          ],
                          [
                            0.4444444444444444,
                            "#bd3786"
                          ],
                          [
                            0.5555555555555556,
                            "#d8576b"
                          ],
                          [
                            0.6666666666666666,
                            "#ed7953"
                          ],
                          [
                            0.7777777777777778,
                            "#fb9f3a"
                          ],
                          [
                            0.8888888888888888,
                            "#fdca26"
                          ],
                          [
                            1,
                            "#f0f921"
                          ]
                        ],
                        "type": "contour"
                      }
                    ],
                    "heatmapgl": [
                      {
                        "colorbar": {
                          "outlinewidth": 0,
                          "ticks": ""
                        },
                        "colorscale": [
                          [
                            0,
                            "#0d0887"
                          ],
                          [
                            0.1111111111111111,
                            "#46039f"
                          ],
                          [
                            0.2222222222222222,
                            "#7201a8"
                          ],
                          [
                            0.3333333333333333,
                            "#9c179e"
                          ],
                          [
                            0.4444444444444444,
                            "#bd3786"
                          ],
                          [
                            0.5555555555555556,
                            "#d8576b"
                          ],
                          [
                            0.6666666666666666,
                            "#ed7953"
                          ],
                          [
                            0.7777777777777778,
                            "#fb9f3a"
                          ],
                          [
                            0.8888888888888888,
                            "#fdca26"
                          ],
                          [
                            1,
                            "#f0f921"
                          ]
                        ],
                        "type": "heatmapgl"
                      }
                    ],
                    "heatmap": [
                      {
                        "colorbar": {
                          "outlinewidth": 0,
                          "ticks": ""
                        },
                        "colorscale": [
                          [
                            0,
                            "#0d0887"
                          ],
                          [
                            0.1111111111111111,
                            "#46039f"
                          ],
                          [
                            0.2222222222222222,
                            "#7201a8"
                          ],
                          [
                            0.3333333333333333,
                            "#9c179e"
                          ],
                          [
                            0.4444444444444444,
                            "#bd3786"
                          ],
                          [
                            0.5555555555555556,
                            "#d8576b"
                          ],
                          [
                            0.6666666666666666,
                            "#ed7953"
                          ],
                          [
                            0.7777777777777778,
                            "#fb9f3a"
                          ],
                          [
                            0.8888888888888888,
                            "#fdca26"
                          ],
                          [
                            1,
                            "#f0f921"
                          ]
                        ],
                        "type": "heatmap"
                      }
                    ],
                    "histogram2dcontour": [
                      {
                        "colorbar": {
                          "outlinewidth": 0,
                          "ticks": ""
                        },
                        "colorscale": [
                          [
                            0,
                            "#0d0887"
                          ],
                          [
                            0.1111111111111111,
                            "#46039f"
                          ],
                          [
                            0.2222222222222222,
                            "#7201a8"
                          ],
                          [
                            0.3333333333333333,
                            "#9c179e"
                          ],
                          [
                            0.4444444444444444,
                            "#bd3786"
                          ],
                          [
                            0.5555555555555556,
                            "#d8576b"
                          ],
                          [
                            0.6666666666666666,
                            "#ed7953"
                          ],
                          [
                            0.7777777777777778,
                            "#fb9f3a"
                          ],
                          [
                            0.8888888888888888,
                            "#fdca26"
                          ],
                          [
                            1,
                            "#f0f921"
                          ]
                        ],
                        "type": "histogram2dcontour"
                      }
                    ],
                    "histogram2d": [
                      {
                        "colorbar": {
                          "outlinewidth": 0,
                          "ticks": ""
                        },
                        "colorscale": [
                          [
                            0,
                            "#0d0887"
                          ],
                          [
                            0.1111111111111111,
                            "#46039f"
                          ],
                          [
                            0.2222222222222222,
                            "#7201a8"
                          ],
                          [
                            0.3333333333333333,
                            "#9c179e"
                          ],
                          [
                            0.4444444444444444,
                            "#bd3786"
                          ],
                          [
                            0.5555555555555556,
                            "#d8576b"
                          ],
                          [
                            0.6666666666666666,
                            "#ed7953"
                          ],
                          [
                            0.7777777777777778,
                            "#fb9f3a"
                          ],
                          [
                            0.8888888888888888,
                            "#fdca26"
                          ],
                          [
                            1,
                            "#f0f921"
                          ]
                        ],
                        "type": "histogram2d"
                      }
                    ],
                    "histogram": [
                      {
                        "marker": {
                          "pattern": {
                            "fillmode": "overlay",
                            "size": 10,
                            "solidity": 0.2
                          }
                        },
                        "type": "histogram"
                      }
                    ],
                    "mesh3d": [
                      {
                        "colorbar": {
                          "outlinewidth": 0,
                          "ticks": ""
                        },
                        "type": "mesh3d"
                      }
                    ],
                    "parcoords": [
                      {
                        "line": {
                          "colorbar": {
                            "outlinewidth": 0,
                            "ticks": ""
                          }
                        },
                        "type": "parcoords"
                      }
                    ],
                    "pie": [
                      {
                        "automargin": true,
                        "type": "pie"
                      }
                    ],
                    "scatter3d": [
                      {
                        "line": {
                          "colorbar": {
                            "outlinewidth": 0,
                            "ticks": ""
                          }
                        },
                        "marker": {
                          "colorbar": {
                            "outlinewidth": 0,
                            "ticks": ""
                          }
                        },
                        "type": "scatter3d"
                      }
                    ],
                    "scattercarpet": [
                      {
                        "marker": {
                          "colorbar": {
                            "outlinewidth": 0,
                            "ticks": ""
                          }
                        },
                        "type": "scattercarpet"
                      }
                    ],
                    "scattergeo": [
                      {
                        "marker": {
                          "colorbar": {
                            "outlinewidth": 0,
                            "ticks": ""
                          }
                        },
                        "type": "scattergeo"
                      }
                    ],
                    "scattergl": [
                      {
                        "marker": {
                          "colorbar": {
                            "outlinewidth": 0,
                            "ticks": ""
                          }
                        },
                        "type": "scattergl"
                      }
                    ],
                    "scattermapbox": [
                      {
                        "marker": {
                          "colorbar": {
                            "outlinewidth": 0,
                            "ticks": ""
                          }
                        },
                        "type": "scattermapbox"
                      }
                    ],
                    "scatterpolargl": [
                      {
                        "marker": {
                          "colorbar": {
                            "outlinewidth": 0,
                            "ticks": ""
                          }
                        },
                        "type": "scatterpolargl"
                      }
                    ],
                    "scatterpolar": [
                      {
                        "marker": {
                          "colorbar": {
                            "outlinewidth": 0,
                            "ticks": ""
                          }
                        },
                        "type": "scatterpolar"
                      }
                    ],
                    "scatter": [
                      {
                        "fillpattern": {
                          "fillmode": "overlay",
                          "size": 10,
                          "solidity": 0.2
                        },
                        "type": "scatter"
                      }
                    ],
                    "scatterternary": [
                      {
                        "marker": {
                          "colorbar": {
                            "outlinewidth": 0,
                            "ticks": ""
                          }
                        },
                        "type": "scatterternary"
                      }
                    ],
                    "surface": [
                      {
                        "colorbar": {
                          "outlinewidth": 0,
                          "ticks": ""
                        },
                        "colorscale": [
                          [
                            0,
                            "#0d0887"
                          ],
                          [
                            0.1111111111111111,
                            "#46039f"
                          ],
                          [
                            0.2222222222222222,
                            "#7201a8"
                          ],
                          [
                            0.3333333333333333,
                            "#9c179e"
                          ],
                          [
                            0.4444444444444444,
                            "#bd3786"
                          ],
                          [
                            0.5555555555555556,
                            "#d8576b"
                          ],
                          [
                            0.6666666666666666,
                            "#ed7953"
                          ],
                          [
                            0.7777777777777778,
                            "#fb9f3a"
                          ],
                          [
                            0.8888888888888888,
                            "#fdca26"
                          ],
                          [
                            1,
                            "#f0f921"
                          ]
                        ],
                        "type": "surface"
                      }
                    ],
                    "table": [
                      {
                        "cells": {
                          "fill": {
                            "color": "#EBF0F8"
                          },
                          "line": {
                            "color": "white"
                          }
                        },
                        "header": {
                          "fill": {
                            "color": "#C8D4E3"
                          },
                          "line": {
                            "color": "white"
                          }
                        },
                        "type": "table"
                      }
                    ]
                  },
                  "layout": {
                    "annotationdefaults": {
                      "arrowcolor": "#2a3f5f",
                      "arrowhead": 0,
                      "arrowwidth": 1
                    },
                    "autotypenumbers": "strict",
                    "coloraxis": {
                      "colorbar": {
                        "outlinewidth": 0,
                        "ticks": ""
                      }
                    },
                    "colorscale": {
                      "diverging": [
                        [
                          0,
                          "#8e0152"
                        ],
                        [
                          0.1,
                          "#c51b7d"
                        ],
                        [
                          0.2,
                          "#de77ae"
                        ],
                        [
                          0.3,
                          "#f1b6da"
                        ],
                        [
                          0.4,
                          "#fde0ef"
                        ],
                        [
                          0.5,
                          "#f7f7f7"
                        ],
                        [
                          0.6,
                          "#e6f5d0"
                        ],
                        [
                          0.7,
                          "#b8e186"
                        ],
                        [
                          0.8,
                          "#7fbc41"
                        ],
                        [
                          0.9,
                          "#4d9221"
                        ],
                        [
                          1,
                          "#276419"
                        ]
                      ],
                      "sequential": [
                        [
                          0,
                          "#0d0887"
                        ],
                        [
                          0.1111111111111111,
                          "#46039f"
                        ],
                        [
                          0.2222222222222222,
                          "#7201a8"
                        ],
                        [
                          0.3333333333333333,
                          "#9c179e"
                        ],
                        [
                          0.4444444444444444,
                          "#bd3786"
                        ],
                        [
                          0.5555555555555556,
                          "#d8576b"
                        ],
                        [
                          0.6666666666666666,
                          "#ed7953"
                        ],
                        [
                          0.7777777777777778,
                          "#fb9f3a"
                        ],
                        [
                          0.8888888888888888,
                          "#fdca26"
                        ],
                        [
                          1,
                          "#f0f921"
                        ]
                      ],
                      "sequentialminus": [
                        [
                          0,
                          "#0d0887"
                        ],
                        [
                          0.1111111111111111,
                          "#46039f"
                        ],
                        [
                          0.2222222222222222,
                          "#7201a8"
                        ],
                        [
                          0.3333333333333333,
                          "#9c179e"
                        ],
                        [
                          0.4444444444444444,
                          "#bd3786"
                        ],
                        [
                          0.5555555555555556,
                          "#d8576b"
                        ],
                        [
                          0.6666666666666666,
                          "#ed7953"
                        ],
                        [
                          0.7777777777777778,
                          "#fb9f3a"
                        ],
                        [
                          0.8888888888888888,
                          "#fdca26"
                        ],
                        [
                          1,
                          "#f0f921"
                        ]
                      ]
                    },
                    "colorway": [
                      "#636efa",
                      "#EF553B",
                      "#00cc96",
                      "#ab63fa",
                      "#FFA15A",
                      "#19d3f3",
                      "#FF6692",
                      "#B6E880",
                      "#FF97FF",
                      "#FECB52"
                    ],
                    "font": {
                      "color": "#2a3f5f"
                    },
                    "geo": {
                      "bgcolor": "white",
                      "lakecolor": "white",
                      "landcolor": "#E5ECF6",
                      "showlakes": true,
                      "showland": true,
                      "subunitcolor": "white"
                    },
                    "hoverlabel": {
                      "align": "left"
                    },
                    "hovermode": "closest",
                    "mapbox": {
                      "style": "light"
                    },
                    "paper_bgcolor": "white",
                    "plot_bgcolor": "#E5ECF6",
                    "polar": {
                      "angularaxis": {
                        "gridcolor": "white",
                        "linecolor": "white",
                        "ticks": ""
                      },
                      "bgcolor": "#E5ECF6",
                      "radialaxis": {
                        "gridcolor": "white",
                        "linecolor": "white",
                        "ticks": ""
                      }
                    },
                    "scene": {
                      "xaxis": {
                        "backgroundcolor": "#E5ECF6",
                        "gridcolor": "white",
                        "gridwidth": 2,
                        "linecolor": "white",
                        "showbackground": true,
                        "ticks": "",
                        "zerolinecolor": "white"
                      },
                      "yaxis": {
                        "backgroundcolor": "#E5ECF6",
                        "gridcolor": "white",
                        "gridwidth": 2,
                        "linecolor": "white",
                        "showbackground": true,
                        "ticks": "",
                        "zerolinecolor": "white"
                      },
                      "zaxis": {
                        "backgroundcolor": "#E5ECF6",
                        "gridcolor": "white",
                        "gridwidth": 2,
                        "linecolor": "white",
                        "showbackground": true,
                        "ticks": "",
                        "zerolinecolor": "white"
                      }
                    },
                    "shapedefaults": {
                      "line": {
                        "color": "#2a3f5f"
                      }
                    },
                    "ternary": {
                      "aaxis": {
                        "gridcolor": "white",
                        "linecolor": "white",
                        "ticks": ""
                      },
                      "baxis": {
                        "gridcolor": "white",
                        "linecolor": "white",
                        "ticks": ""
                      },
                      "bgcolor": "#E5ECF6",
                      "caxis": {
                        "gridcolor": "white",
                        "linecolor": "white",
                        "ticks": ""
                      }
                    },
                    "title": {
                      "x": 0.05
                    },
                    "xaxis": {
                      "automargin": true,
                      "gridcolor": "white",
                      "linecolor": "white",
                      "ticks": "",
                      "title": {
                        "standoff": 15
                      },
                      "zerolinecolor": "white",
                      "zerolinewidth": 2
                    },
                    "yaxis": {
                      "automargin": true,
                      "gridcolor": "white",
                      "linecolor": "white",
                      "ticks": "",
                      "title": {
                        "standoff": 15
                      },
                      "zerolinecolor": "white",
                      "zerolinewidth": 2
                    }
                  }
                },
                "title": {
                  "font": {
                    "color": "#4D5663"
                  },
                  "text": "Count of Products with suspected fraud"
                },
                "xaxis": {
                  "gridcolor": "#E1E5ED",
                  "showgrid": true,
                  "tickfont": {
                    "color": "#4D5663"
                  },
                  "title": {
                    "font": {
                      "color": "#4D5663"
                    },
                    "text": "Category"
                  },
                  "zerolinecolor": "#E1E5ED"
                },
                "yaxis": {
                  "gridcolor": "#E1E5ED",
                  "showgrid": true,
                  "tickfont": {
                    "color": "#4D5663"
                  },
                  "title": {
                    "font": {
                      "color": "#4D5663"
                    },
                    "text": "Count"
                  },
                  "zerolinecolor": "#E1E5ED"
                }
              },
              "config": {
                "showLink": true,
                "linkText": "Export to plot.ly",
                "plotlyServerURL": "https://plot.ly"
              }
            },
            "text/html": [
              "<div>                            <div id=\"59287894-135b-40f0-91da-4131e8a0e84b\" class=\"plotly-graph-div\" style=\"height:525px; width:100%;\"></div>            <script type=\"text/javascript\">                require([\"plotly\"], function(Plotly) {                    window.PLOTLYENV=window.PLOTLYENV || {};\n",
              "                    window.PLOTLYENV.BASE_URL='https://plot.ly';                                    if (document.getElementById(\"59287894-135b-40f0-91da-4131e8a0e84b\")) {                    Plotly.newPlot(                        \"59287894-135b-40f0-91da-4131e8a0e84b\",                        [{\"marker\":{\"color\":\"rgba(255, 0, 0, 0.6)\",\"line\":{\"color\":\"rgba(255, 0, 0, 1.0)\",\"width\":1}},\"name\":\"Category Name\",\"orientation\":\"v\",\"text\":\"\",\"x\":[\"Cleats\",\"Women's Apparel\",\"Cardio Equipment\",\"Shop By Sport\",\"Electronics\",\"Men's Footwear\",\"Sporting Goods\",\"Hockey\",\"Camping & Hiking\",\"Girls' Apparel\"],\"y\":[103,93,57,56,22,14,12,12,9,8],\"type\":\"bar\"}],                        {\"legend\":{\"bgcolor\":\"#F5F6F9\",\"font\":{\"color\":\"#4D5663\"}},\"paper_bgcolor\":\"#F5F6F9\",\"plot_bgcolor\":\"#F5F6F9\",\"template\":{\"data\":{\"barpolar\":[{\"marker\":{\"line\":{\"color\":\"#E5ECF6\",\"width\":0.5},\"pattern\":{\"fillmode\":\"overlay\",\"size\":10,\"solidity\":0.2}},\"type\":\"barpolar\"}],\"bar\":[{\"error_x\":{\"color\":\"#2a3f5f\"},\"error_y\":{\"color\":\"#2a3f5f\"},\"marker\":{\"line\":{\"color\":\"#E5ECF6\",\"width\":0.5},\"pattern\":{\"fillmode\":\"overlay\",\"size\":10,\"solidity\":0.2}},\"type\":\"bar\"}],\"carpet\":[{\"aaxis\":{\"endlinecolor\":\"#2a3f5f\",\"gridcolor\":\"white\",\"linecolor\":\"white\",\"minorgridcolor\":\"white\",\"startlinecolor\":\"#2a3f5f\"},\"baxis\":{\"endlinecolor\":\"#2a3f5f\",\"gridcolor\":\"white\",\"linecolor\":\"white\",\"minorgridcolor\":\"white\",\"startlinecolor\":\"#2a3f5f\"},\"type\":\"carpet\"}],\"choropleth\":[{\"colorbar\":{\"outlinewidth\":0,\"ticks\":\"\"},\"type\":\"choropleth\"}],\"contourcarpet\":[{\"colorbar\":{\"outlinewidth\":0,\"ticks\":\"\"},\"type\":\"contourcarpet\"}],\"contour\":[{\"colorbar\":{\"outlinewidth\":0,\"ticks\":\"\"},\"colorscale\":[[0.0,\"#0d0887\"],[0.1111111111111111,\"#46039f\"],[0.2222222222222222,\"#7201a8\"],[0.3333333333333333,\"#9c179e\"],[0.4444444444444444,\"#bd3786\"],[0.5555555555555556,\"#d8576b\"],[0.6666666666666666,\"#ed7953\"],[0.7777777777777778,\"#fb9f3a\"],[0.8888888888888888,\"#fdca26\"],[1.0,\"#f0f921\"]],\"type\":\"contour\"}],\"heatmapgl\":[{\"colorbar\":{\"outlinewidth\":0,\"ticks\":\"\"},\"colorscale\":[[0.0,\"#0d0887\"],[0.1111111111111111,\"#46039f\"],[0.2222222222222222,\"#7201a8\"],[0.3333333333333333,\"#9c179e\"],[0.4444444444444444,\"#bd3786\"],[0.5555555555555556,\"#d8576b\"],[0.6666666666666666,\"#ed7953\"],[0.7777777777777778,\"#fb9f3a\"],[0.8888888888888888,\"#fdca26\"],[1.0,\"#f0f921\"]],\"type\":\"heatmapgl\"}],\"heatmap\":[{\"colorbar\":{\"outlinewidth\":0,\"ticks\":\"\"},\"colorscale\":[[0.0,\"#0d0887\"],[0.1111111111111111,\"#46039f\"],[0.2222222222222222,\"#7201a8\"],[0.3333333333333333,\"#9c179e\"],[0.4444444444444444,\"#bd3786\"],[0.5555555555555556,\"#d8576b\"],[0.6666666666666666,\"#ed7953\"],[0.7777777777777778,\"#fb9f3a\"],[0.8888888888888888,\"#fdca26\"],[1.0,\"#f0f921\"]],\"type\":\"heatmap\"}],\"histogram2dcontour\":[{\"colorbar\":{\"outlinewidth\":0,\"ticks\":\"\"},\"colorscale\":[[0.0,\"#0d0887\"],[0.1111111111111111,\"#46039f\"],[0.2222222222222222,\"#7201a8\"],[0.3333333333333333,\"#9c179e\"],[0.4444444444444444,\"#bd3786\"],[0.5555555555555556,\"#d8576b\"],[0.6666666666666666,\"#ed7953\"],[0.7777777777777778,\"#fb9f3a\"],[0.8888888888888888,\"#fdca26\"],[1.0,\"#f0f921\"]],\"type\":\"histogram2dcontour\"}],\"histogram2d\":[{\"colorbar\":{\"outlinewidth\":0,\"ticks\":\"\"},\"colorscale\":[[0.0,\"#0d0887\"],[0.1111111111111111,\"#46039f\"],[0.2222222222222222,\"#7201a8\"],[0.3333333333333333,\"#9c179e\"],[0.4444444444444444,\"#bd3786\"],[0.5555555555555556,\"#d8576b\"],[0.6666666666666666,\"#ed7953\"],[0.7777777777777778,\"#fb9f3a\"],[0.8888888888888888,\"#fdca26\"],[1.0,\"#f0f921\"]],\"type\":\"histogram2d\"}],\"histogram\":[{\"marker\":{\"pattern\":{\"fillmode\":\"overlay\",\"size\":10,\"solidity\":0.2}},\"type\":\"histogram\"}],\"mesh3d\":[{\"colorbar\":{\"outlinewidth\":0,\"ticks\":\"\"},\"type\":\"mesh3d\"}],\"parcoords\":[{\"line\":{\"colorbar\":{\"outlinewidth\":0,\"ticks\":\"\"}},\"type\":\"parcoords\"}],\"pie\":[{\"automargin\":true,\"type\":\"pie\"}],\"scatter3d\":[{\"line\":{\"colorbar\":{\"outlinewidth\":0,\"ticks\":\"\"}},\"marker\":{\"colorbar\":{\"outlinewidth\":0,\"ticks\":\"\"}},\"type\":\"scatter3d\"}],\"scattercarpet\":[{\"marker\":{\"colorbar\":{\"outlinewidth\":0,\"ticks\":\"\"}},\"type\":\"scattercarpet\"}],\"scattergeo\":[{\"marker\":{\"colorbar\":{\"outlinewidth\":0,\"ticks\":\"\"}},\"type\":\"scattergeo\"}],\"scattergl\":[{\"marker\":{\"colorbar\":{\"outlinewidth\":0,\"ticks\":\"\"}},\"type\":\"scattergl\"}],\"scattermapbox\":[{\"marker\":{\"colorbar\":{\"outlinewidth\":0,\"ticks\":\"\"}},\"type\":\"scattermapbox\"}],\"scatterpolargl\":[{\"marker\":{\"colorbar\":{\"outlinewidth\":0,\"ticks\":\"\"}},\"type\":\"scatterpolargl\"}],\"scatterpolar\":[{\"marker\":{\"colorbar\":{\"outlinewidth\":0,\"ticks\":\"\"}},\"type\":\"scatterpolar\"}],\"scatter\":[{\"fillpattern\":{\"fillmode\":\"overlay\",\"size\":10,\"solidity\":0.2},\"type\":\"scatter\"}],\"scatterternary\":[{\"marker\":{\"colorbar\":{\"outlinewidth\":0,\"ticks\":\"\"}},\"type\":\"scatterternary\"}],\"surface\":[{\"colorbar\":{\"outlinewidth\":0,\"ticks\":\"\"},\"colorscale\":[[0.0,\"#0d0887\"],[0.1111111111111111,\"#46039f\"],[0.2222222222222222,\"#7201a8\"],[0.3333333333333333,\"#9c179e\"],[0.4444444444444444,\"#bd3786\"],[0.5555555555555556,\"#d8576b\"],[0.6666666666666666,\"#ed7953\"],[0.7777777777777778,\"#fb9f3a\"],[0.8888888888888888,\"#fdca26\"],[1.0,\"#f0f921\"]],\"type\":\"surface\"}],\"table\":[{\"cells\":{\"fill\":{\"color\":\"#EBF0F8\"},\"line\":{\"color\":\"white\"}},\"header\":{\"fill\":{\"color\":\"#C8D4E3\"},\"line\":{\"color\":\"white\"}},\"type\":\"table\"}]},\"layout\":{\"annotationdefaults\":{\"arrowcolor\":\"#2a3f5f\",\"arrowhead\":0,\"arrowwidth\":1},\"autotypenumbers\":\"strict\",\"coloraxis\":{\"colorbar\":{\"outlinewidth\":0,\"ticks\":\"\"}},\"colorscale\":{\"diverging\":[[0,\"#8e0152\"],[0.1,\"#c51b7d\"],[0.2,\"#de77ae\"],[0.3,\"#f1b6da\"],[0.4,\"#fde0ef\"],[0.5,\"#f7f7f7\"],[0.6,\"#e6f5d0\"],[0.7,\"#b8e186\"],[0.8,\"#7fbc41\"],[0.9,\"#4d9221\"],[1,\"#276419\"]],\"sequential\":[[0.0,\"#0d0887\"],[0.1111111111111111,\"#46039f\"],[0.2222222222222222,\"#7201a8\"],[0.3333333333333333,\"#9c179e\"],[0.4444444444444444,\"#bd3786\"],[0.5555555555555556,\"#d8576b\"],[0.6666666666666666,\"#ed7953\"],[0.7777777777777778,\"#fb9f3a\"],[0.8888888888888888,\"#fdca26\"],[1.0,\"#f0f921\"]],\"sequentialminus\":[[0.0,\"#0d0887\"],[0.1111111111111111,\"#46039f\"],[0.2222222222222222,\"#7201a8\"],[0.3333333333333333,\"#9c179e\"],[0.4444444444444444,\"#bd3786\"],[0.5555555555555556,\"#d8576b\"],[0.6666666666666666,\"#ed7953\"],[0.7777777777777778,\"#fb9f3a\"],[0.8888888888888888,\"#fdca26\"],[1.0,\"#f0f921\"]]},\"colorway\":[\"#636efa\",\"#EF553B\",\"#00cc96\",\"#ab63fa\",\"#FFA15A\",\"#19d3f3\",\"#FF6692\",\"#B6E880\",\"#FF97FF\",\"#FECB52\"],\"font\":{\"color\":\"#2a3f5f\"},\"geo\":{\"bgcolor\":\"white\",\"lakecolor\":\"white\",\"landcolor\":\"#E5ECF6\",\"showlakes\":true,\"showland\":true,\"subunitcolor\":\"white\"},\"hoverlabel\":{\"align\":\"left\"},\"hovermode\":\"closest\",\"mapbox\":{\"style\":\"light\"},\"paper_bgcolor\":\"white\",\"plot_bgcolor\":\"#E5ECF6\",\"polar\":{\"angularaxis\":{\"gridcolor\":\"white\",\"linecolor\":\"white\",\"ticks\":\"\"},\"bgcolor\":\"#E5ECF6\",\"radialaxis\":{\"gridcolor\":\"white\",\"linecolor\":\"white\",\"ticks\":\"\"}},\"scene\":{\"xaxis\":{\"backgroundcolor\":\"#E5ECF6\",\"gridcolor\":\"white\",\"gridwidth\":2,\"linecolor\":\"white\",\"showbackground\":true,\"ticks\":\"\",\"zerolinecolor\":\"white\"},\"yaxis\":{\"backgroundcolor\":\"#E5ECF6\",\"gridcolor\":\"white\",\"gridwidth\":2,\"linecolor\":\"white\",\"showbackground\":true,\"ticks\":\"\",\"zerolinecolor\":\"white\"},\"zaxis\":{\"backgroundcolor\":\"#E5ECF6\",\"gridcolor\":\"white\",\"gridwidth\":2,\"linecolor\":\"white\",\"showbackground\":true,\"ticks\":\"\",\"zerolinecolor\":\"white\"}},\"shapedefaults\":{\"line\":{\"color\":\"#2a3f5f\"}},\"ternary\":{\"aaxis\":{\"gridcolor\":\"white\",\"linecolor\":\"white\",\"ticks\":\"\"},\"baxis\":{\"gridcolor\":\"white\",\"linecolor\":\"white\",\"ticks\":\"\"},\"bgcolor\":\"#E5ECF6\",\"caxis\":{\"gridcolor\":\"white\",\"linecolor\":\"white\",\"ticks\":\"\"}},\"title\":{\"x\":0.05},\"xaxis\":{\"automargin\":true,\"gridcolor\":\"white\",\"linecolor\":\"white\",\"ticks\":\"\",\"title\":{\"standoff\":15},\"zerolinecolor\":\"white\",\"zerolinewidth\":2},\"yaxis\":{\"automargin\":true,\"gridcolor\":\"white\",\"linecolor\":\"white\",\"ticks\":\"\",\"title\":{\"standoff\":15},\"zerolinecolor\":\"white\",\"zerolinewidth\":2}}},\"title\":{\"font\":{\"color\":\"#4D5663\"},\"text\":\"Count of Products with suspected fraud\"},\"xaxis\":{\"gridcolor\":\"#E1E5ED\",\"showgrid\":true,\"tickfont\":{\"color\":\"#4D5663\"},\"title\":{\"font\":{\"color\":\"#4D5663\"},\"text\":\"Category\"},\"zerolinecolor\":\"#E1E5ED\"},\"yaxis\":{\"gridcolor\":\"#E1E5ED\",\"showgrid\":true,\"tickfont\":{\"color\":\"#4D5663\"},\"title\":{\"font\":{\"color\":\"#4D5663\"},\"text\":\"Count\"},\"zerolinecolor\":\"#E1E5ED\"}},                        {\"showLink\": true, \"linkText\": \"Export to plot.ly\", \"plotlyServerURL\": \"https://plot.ly\", \"responsive\": true}                    ).then(function(){\n",
              "                            \n",
              "var gd = document.getElementById('59287894-135b-40f0-91da-4131e8a0e84b');\n",
              "var x = new MutationObserver(function (mutations, observer) {{\n",
              "        var display = window.getComputedStyle(gd).display;\n",
              "        if (!display || display === 'none') {{\n",
              "            console.log([gd, 'removed!']);\n",
              "            Plotly.purge(gd);\n",
              "            observer.disconnect();\n",
              "        }}\n",
              "}});\n",
              "\n",
              "// Listen for the removal of the full notebook cells\n",
              "var notebookContainer = gd.closest('#notebook-container');\n",
              "if (notebookContainer) {{\n",
              "    x.observe(notebookContainer, {childList: true});\n",
              "}}\n",
              "\n",
              "// Listen for the clearing of the current output cell\n",
              "var outputEl = gd.closest('.output');\n",
              "if (outputEl) {{\n",
              "    x.observe(outputEl, {childList: true});\n",
              "}}\n",
              "\n",
              "                        })                };                });            </script>        </div>"
            ]
          },
          "metadata": {}
        }
      ]
    },
    {
      "cell_type": "code",
      "source": [
        "# Creating a copy of the datafram\n",
        "train_df = df.copy()"
      ],
      "metadata": {
        "id": "s0rCG0KK6SQq"
      },
      "execution_count": null,
      "outputs": []
    },
    {
      "cell_type": "code",
      "source": [
        "# Creating Binary enocode for Suspected Fraud and Late delivery\n",
        "\n",
        "train_df['fraud'] = np.where(train_df['Order Status'] == 'SUSPECTED_FRAUD', 1, 0)\n",
        "train_df['late_delivery']=np.where(train_df['Delivery Status'] == 'Late delivery', 1, 0)"
      ],
      "metadata": {
        "id": "rOEq7HGO6WC9"
      },
      "execution_count": null,
      "outputs": []
    },
    {
      "cell_type": "code",
      "source": [
        "\n",
        "train_df.columns"
      ],
      "metadata": {
        "colab": {
          "base_uri": "https://localhost:8080/"
        },
        "id": "L5iL1N4G6YRv",
        "outputId": "bab69e26-89ee-47a0-f2ed-887274c18e09"
      },
      "execution_count": null,
      "outputs": [
        {
          "output_type": "execute_result",
          "data": {
            "text/plain": [
              "Index(['Type', 'Days for shipping (real)', 'Days for shipment (scheduled)',\n",
              "       'Benefit per order', 'Sales per customer', 'Delivery Status',\n",
              "       'Late_delivery_risk', 'Category Id', 'Category Name', 'Customer City',\n",
              "       'Customer Country', 'Customer Id', 'Customer Segment', 'Customer State',\n",
              "       'Customer Zipcode', 'Department Id', 'Department Name', 'Market',\n",
              "       'Order City', 'Order Country', 'Order Customer Id',\n",
              "       'order date (DateOrders)', 'Order Id', 'Order Item Cardprod Id',\n",
              "       'Order Item Discount', 'Order Item Discount Rate', 'Order Item Id',\n",
              "       'Order Item Product Price', 'Order Item Profit Ratio',\n",
              "       'Order Item Quantity', 'Sales', 'Order Item Total',\n",
              "       'Order Profit Per Order', 'Order Region', 'Order State', 'Order Status',\n",
              "       'Product Card Id', 'Product Category Id', 'Product Name',\n",
              "       'Product Price', 'Shipping Mode', 'Cust_Full_Name', 'order_yr',\n",
              "       'order_month', 'order_day', 'order_hour', 'fraud', 'late_delivery'],\n",
              "      dtype='object')"
            ]
          },
          "metadata": {},
          "execution_count": 25
        }
      ]
    },
    {
      "cell_type": "code",
      "source": [
        "## Removing Identical columns after creating new columns\n",
        "\n",
        "train_df.drop(['Delivery Status','Late_delivery_risk','Order Status','order date (DateOrders)'], axis=1, inplace=True)"
      ],
      "metadata": {
        "id": "3-Jvf9tP6bPq"
      },
      "execution_count": null,
      "outputs": []
    },
    {
      "cell_type": "code",
      "source": [
        "## Final dimensions of the dataset after wrangling and cleaning\n",
        "\n",
        "train_df.shape"
      ],
      "metadata": {
        "colab": {
          "base_uri": "https://localhost:8080/"
        },
        "id": "OnFnCFoQ6dgX",
        "outputId": "701aaf74-2695-4b20-d0b7-ffc135d69cc5"
      },
      "execution_count": null,
      "outputs": [
        {
          "output_type": "execute_result",
          "data": {
            "text/plain": [
              "(21854, 44)"
            ]
          },
          "metadata": {},
          "execution_count": 27
        }
      ]
    },
    {
      "cell_type": "code",
      "source": [
        "train_df.dtypes"
      ],
      "metadata": {
        "colab": {
          "base_uri": "https://localhost:8080/"
        },
        "id": "ZwjHLTcX6gIK",
        "outputId": "acf34d9d-5a62-4ae0-e3c8-f84020c4bed9"
      },
      "execution_count": null,
      "outputs": [
        {
          "output_type": "execute_result",
          "data": {
            "text/plain": [
              "Type                              object\n",
              "Days for shipping (real)           int64\n",
              "Days for shipment (scheduled)      int64\n",
              "Benefit per order                float64\n",
              "Sales per customer               float64\n",
              "Category Id                        int64\n",
              "Category Name                     object\n",
              "Customer City                     object\n",
              "Customer Country                  object\n",
              "Customer Id                        int64\n",
              "Customer Segment                  object\n",
              "Customer State                    object\n",
              "Customer Zipcode                   int64\n",
              "Department Id                      int64\n",
              "Department Name                   object\n",
              "Market                            object\n",
              "Order City                        object\n",
              "Order Country                     object\n",
              "Order Customer Id                  int64\n",
              "Order Id                           int64\n",
              "Order Item Cardprod Id             int64\n",
              "Order Item Discount              float64\n",
              "Order Item Discount Rate         float64\n",
              "Order Item Id                      int64\n",
              "Order Item Product Price         float64\n",
              "Order Item Profit Ratio          float64\n",
              "Order Item Quantity                int64\n",
              "Sales                            float64\n",
              "Order Item Total                 float64\n",
              "Order Profit Per Order           float64\n",
              "Order Region                      object\n",
              "Order State                       object\n",
              "Product Card Id                    int64\n",
              "Product Category Id                int64\n",
              "Product Name                      object\n",
              "Product Price                    float64\n",
              "Shipping Mode                     object\n",
              "Cust_Full_Name                    object\n",
              "order_yr                           int64\n",
              "order_month                        int64\n",
              "order_day                          int64\n",
              "order_hour                         int64\n",
              "fraud                              int64\n",
              "late_delivery                      int64\n",
              "dtype: object"
            ]
          },
          "metadata": {},
          "execution_count": 28
        }
      ]
    },
    {
      "cell_type": "code",
      "source": [
        "le = preprocessing.LabelEncoder()\n",
        "#convert the categorical columns into numeric\n",
        "train_df['Customer Country']  = le.fit_transform(train_df['Customer Country'])\n",
        "train_df['Market']            = le.fit_transform(train_df['Market'])\n",
        "train_df['Type']              = le.fit_transform(train_df['Type'])\n",
        "train_df['Product Name']      = le.fit_transform(train_df['Product Name'])\n",
        "train_df['Customer Segment']  = le.fit_transform(train_df['Customer Segment'])\n",
        "train_df['Customer State']    = le.fit_transform(train_df['Customer State'])\n",
        "train_df['Order Region']      = le.fit_transform(train_df['Order Region'])\n",
        "train_df['Order City']        = le.fit_transform(train_df['Order City'])\n",
        "train_df['Category Name']     = le.fit_transform(train_df['Category Name'])\n",
        "train_df['Customer City']     = le.fit_transform(train_df['Customer City'])\n",
        "train_df['Department Name']   = le.fit_transform(train_df['Department Name'])\n",
        "train_df['Order State']       = le.fit_transform(train_df['Order State'])\n",
        "train_df['Shipping Mode']     = le.fit_transform(train_df['Shipping Mode'])\n",
        "train_df['Order Country']     = le.fit_transform(train_df['Order Country'])\n",
        "train_df['Cust_Full_Name']    = le.fit_transform(train_df['Cust_Full_Name'])"
      ],
      "metadata": {
        "id": "a5vLMYxk6jXW"
      },
      "execution_count": null,
      "outputs": []
    },
    {
      "cell_type": "code",
      "source": [
        "train_df.head()"
      ],
      "metadata": {
        "colab": {
          "base_uri": "https://localhost:8080/",
          "height": 334
        },
        "id": "u4L2Xxgf6l_g",
        "outputId": "997e52d8-84dc-49be-e4b3-ca9688dd4007"
      },
      "execution_count": null,
      "outputs": [
        {
          "output_type": "execute_result",
          "data": {
            "text/plain": [
              "   Type  Days for shipping (real)  Days for shipment (scheduled)  \\\n",
              "0     1                         3                              4   \n",
              "1     3                         5                              4   \n",
              "2     0                         4                              4   \n",
              "3     1                         3                              4   \n",
              "4     2                         2                              4   \n",
              "\n",
              "   Benefit per order  Sales per customer  Category Id  Category Name  \\\n",
              "0          91.250000          314.640015           73             34   \n",
              "1        -249.089996          311.359985           73             34   \n",
              "2        -247.779999          309.720001           73             34   \n",
              "3          22.860001          304.809998           73             34   \n",
              "4         134.210007          298.250000           73             34   \n",
              "\n",
              "   Customer City  Customer Country  Customer Id  ...  Product Name  \\\n",
              "0             65                 1        20755  ...            58   \n",
              "1             65                 1        19492  ...            58   \n",
              "2            450                 0        19491  ...            58   \n",
              "3            283                 0        19490  ...            58   \n",
              "4             65                 1        19489  ...            58   \n",
              "\n",
              "   Product Price  Shipping Mode  Cust_Full_Name  order_yr  order_month  \\\n",
              "0         327.75              3             638      2018            1   \n",
              "1         327.75              3            1771      2018            1   \n",
              "2         327.75              3            1539      2018            1   \n",
              "3         327.75              3            4815      2018            1   \n",
              "4         327.75              3            4042      2018            1   \n",
              "\n",
              "   order_day  order_hour  fraud  late_delivery  \n",
              "0          2          22      0              0  \n",
              "1          5          12      0              1  \n",
              "2          5          12      0              0  \n",
              "3          5          11      0              0  \n",
              "4          5          11      0              0  \n",
              "\n",
              "[5 rows x 44 columns]"
            ],
            "text/html": [
              "\n",
              "\n",
              "  <div id=\"df-5676d09e-eca3-49c7-a533-421a2b86dac6\">\n",
              "    <div class=\"colab-df-container\">\n",
              "      <div>\n",
              "<style scoped>\n",
              "    .dataframe tbody tr th:only-of-type {\n",
              "        vertical-align: middle;\n",
              "    }\n",
              "\n",
              "    .dataframe tbody tr th {\n",
              "        vertical-align: top;\n",
              "    }\n",
              "\n",
              "    .dataframe thead th {\n",
              "        text-align: right;\n",
              "    }\n",
              "</style>\n",
              "<table border=\"1\" class=\"dataframe\">\n",
              "  <thead>\n",
              "    <tr style=\"text-align: right;\">\n",
              "      <th></th>\n",
              "      <th>Type</th>\n",
              "      <th>Days for shipping (real)</th>\n",
              "      <th>Days for shipment (scheduled)</th>\n",
              "      <th>Benefit per order</th>\n",
              "      <th>Sales per customer</th>\n",
              "      <th>Category Id</th>\n",
              "      <th>Category Name</th>\n",
              "      <th>Customer City</th>\n",
              "      <th>Customer Country</th>\n",
              "      <th>Customer Id</th>\n",
              "      <th>...</th>\n",
              "      <th>Product Name</th>\n",
              "      <th>Product Price</th>\n",
              "      <th>Shipping Mode</th>\n",
              "      <th>Cust_Full_Name</th>\n",
              "      <th>order_yr</th>\n",
              "      <th>order_month</th>\n",
              "      <th>order_day</th>\n",
              "      <th>order_hour</th>\n",
              "      <th>fraud</th>\n",
              "      <th>late_delivery</th>\n",
              "    </tr>\n",
              "  </thead>\n",
              "  <tbody>\n",
              "    <tr>\n",
              "      <th>0</th>\n",
              "      <td>1</td>\n",
              "      <td>3</td>\n",
              "      <td>4</td>\n",
              "      <td>91.250000</td>\n",
              "      <td>314.640015</td>\n",
              "      <td>73</td>\n",
              "      <td>34</td>\n",
              "      <td>65</td>\n",
              "      <td>1</td>\n",
              "      <td>20755</td>\n",
              "      <td>...</td>\n",
              "      <td>58</td>\n",
              "      <td>327.75</td>\n",
              "      <td>3</td>\n",
              "      <td>638</td>\n",
              "      <td>2018</td>\n",
              "      <td>1</td>\n",
              "      <td>2</td>\n",
              "      <td>22</td>\n",
              "      <td>0</td>\n",
              "      <td>0</td>\n",
              "    </tr>\n",
              "    <tr>\n",
              "      <th>1</th>\n",
              "      <td>3</td>\n",
              "      <td>5</td>\n",
              "      <td>4</td>\n",
              "      <td>-249.089996</td>\n",
              "      <td>311.359985</td>\n",
              "      <td>73</td>\n",
              "      <td>34</td>\n",
              "      <td>65</td>\n",
              "      <td>1</td>\n",
              "      <td>19492</td>\n",
              "      <td>...</td>\n",
              "      <td>58</td>\n",
              "      <td>327.75</td>\n",
              "      <td>3</td>\n",
              "      <td>1771</td>\n",
              "      <td>2018</td>\n",
              "      <td>1</td>\n",
              "      <td>5</td>\n",
              "      <td>12</td>\n",
              "      <td>0</td>\n",
              "      <td>1</td>\n",
              "    </tr>\n",
              "    <tr>\n",
              "      <th>2</th>\n",
              "      <td>0</td>\n",
              "      <td>4</td>\n",
              "      <td>4</td>\n",
              "      <td>-247.779999</td>\n",
              "      <td>309.720001</td>\n",
              "      <td>73</td>\n",
              "      <td>34</td>\n",
              "      <td>450</td>\n",
              "      <td>0</td>\n",
              "      <td>19491</td>\n",
              "      <td>...</td>\n",
              "      <td>58</td>\n",
              "      <td>327.75</td>\n",
              "      <td>3</td>\n",
              "      <td>1539</td>\n",
              "      <td>2018</td>\n",
              "      <td>1</td>\n",
              "      <td>5</td>\n",
              "      <td>12</td>\n",
              "      <td>0</td>\n",
              "      <td>0</td>\n",
              "    </tr>\n",
              "    <tr>\n",
              "      <th>3</th>\n",
              "      <td>1</td>\n",
              "      <td>3</td>\n",
              "      <td>4</td>\n",
              "      <td>22.860001</td>\n",
              "      <td>304.809998</td>\n",
              "      <td>73</td>\n",
              "      <td>34</td>\n",
              "      <td>283</td>\n",
              "      <td>0</td>\n",
              "      <td>19490</td>\n",
              "      <td>...</td>\n",
              "      <td>58</td>\n",
              "      <td>327.75</td>\n",
              "      <td>3</td>\n",
              "      <td>4815</td>\n",
              "      <td>2018</td>\n",
              "      <td>1</td>\n",
              "      <td>5</td>\n",
              "      <td>11</td>\n",
              "      <td>0</td>\n",
              "      <td>0</td>\n",
              "    </tr>\n",
              "    <tr>\n",
              "      <th>4</th>\n",
              "      <td>2</td>\n",
              "      <td>2</td>\n",
              "      <td>4</td>\n",
              "      <td>134.210007</td>\n",
              "      <td>298.250000</td>\n",
              "      <td>73</td>\n",
              "      <td>34</td>\n",
              "      <td>65</td>\n",
              "      <td>1</td>\n",
              "      <td>19489</td>\n",
              "      <td>...</td>\n",
              "      <td>58</td>\n",
              "      <td>327.75</td>\n",
              "      <td>3</td>\n",
              "      <td>4042</td>\n",
              "      <td>2018</td>\n",
              "      <td>1</td>\n",
              "      <td>5</td>\n",
              "      <td>11</td>\n",
              "      <td>0</td>\n",
              "      <td>0</td>\n",
              "    </tr>\n",
              "  </tbody>\n",
              "</table>\n",
              "<p>5 rows × 44 columns</p>\n",
              "</div>\n",
              "      <button class=\"colab-df-convert\" onclick=\"convertToInteractive('df-5676d09e-eca3-49c7-a533-421a2b86dac6')\"\n",
              "              title=\"Convert this dataframe to an interactive table.\"\n",
              "              style=\"display:none;\">\n",
              "\n",
              "  <svg xmlns=\"http://www.w3.org/2000/svg\" height=\"24px\"viewBox=\"0 0 24 24\"\n",
              "       width=\"24px\">\n",
              "    <path d=\"M0 0h24v24H0V0z\" fill=\"none\"/>\n",
              "    <path d=\"M18.56 5.44l.94 2.06.94-2.06 2.06-.94-2.06-.94-.94-2.06-.94 2.06-2.06.94zm-11 1L8.5 8.5l.94-2.06 2.06-.94-2.06-.94L8.5 2.5l-.94 2.06-2.06.94zm10 10l.94 2.06.94-2.06 2.06-.94-2.06-.94-.94-2.06-.94 2.06-2.06.94z\"/><path d=\"M17.41 7.96l-1.37-1.37c-.4-.4-.92-.59-1.43-.59-.52 0-1.04.2-1.43.59L10.3 9.45l-7.72 7.72c-.78.78-.78 2.05 0 2.83L4 21.41c.39.39.9.59 1.41.59.51 0 1.02-.2 1.41-.59l7.78-7.78 2.81-2.81c.8-.78.8-2.07 0-2.86zM5.41 20L4 18.59l7.72-7.72 1.47 1.35L5.41 20z\"/>\n",
              "  </svg>\n",
              "      </button>\n",
              "\n",
              "\n",
              "\n",
              "    <div id=\"df-d7213492-ad28-4b30-a647-a4e681190d2d\">\n",
              "      <button class=\"colab-df-quickchart\" onclick=\"quickchart('df-d7213492-ad28-4b30-a647-a4e681190d2d')\"\n",
              "              title=\"Suggest charts.\"\n",
              "              style=\"display:none;\">\n",
              "\n",
              "<svg xmlns=\"http://www.w3.org/2000/svg\" height=\"24px\"viewBox=\"0 0 24 24\"\n",
              "     width=\"24px\">\n",
              "    <g>\n",
              "        <path d=\"M19 3H5c-1.1 0-2 .9-2 2v14c0 1.1.9 2 2 2h14c1.1 0 2-.9 2-2V5c0-1.1-.9-2-2-2zM9 17H7v-7h2v7zm4 0h-2V7h2v10zm4 0h-2v-4h2v4z\"/>\n",
              "    </g>\n",
              "</svg>\n",
              "      </button>\n",
              "    </div>\n",
              "\n",
              "<style>\n",
              "  .colab-df-quickchart {\n",
              "    background-color: #E8F0FE;\n",
              "    border: none;\n",
              "    border-radius: 50%;\n",
              "    cursor: pointer;\n",
              "    display: none;\n",
              "    fill: #1967D2;\n",
              "    height: 32px;\n",
              "    padding: 0 0 0 0;\n",
              "    width: 32px;\n",
              "  }\n",
              "\n",
              "  .colab-df-quickchart:hover {\n",
              "    background-color: #E2EBFA;\n",
              "    box-shadow: 0px 1px 2px rgba(60, 64, 67, 0.3), 0px 1px 3px 1px rgba(60, 64, 67, 0.15);\n",
              "    fill: #174EA6;\n",
              "  }\n",
              "\n",
              "  [theme=dark] .colab-df-quickchart {\n",
              "    background-color: #3B4455;\n",
              "    fill: #D2E3FC;\n",
              "  }\n",
              "\n",
              "  [theme=dark] .colab-df-quickchart:hover {\n",
              "    background-color: #434B5C;\n",
              "    box-shadow: 0px 1px 3px 1px rgba(0, 0, 0, 0.15);\n",
              "    filter: drop-shadow(0px 1px 2px rgba(0, 0, 0, 0.3));\n",
              "    fill: #FFFFFF;\n",
              "  }\n",
              "</style>\n",
              "\n",
              "    <script>\n",
              "      async function quickchart(key) {\n",
              "        const containerElement = document.querySelector('#' + key);\n",
              "        const charts = await google.colab.kernel.invokeFunction(\n",
              "            'suggestCharts', [key], {});\n",
              "      }\n",
              "    </script>\n",
              "\n",
              "      <script>\n",
              "\n",
              "function displayQuickchartButton(domScope) {\n",
              "  let quickchartButtonEl =\n",
              "    domScope.querySelector('#df-d7213492-ad28-4b30-a647-a4e681190d2d button.colab-df-quickchart');\n",
              "  quickchartButtonEl.style.display =\n",
              "    google.colab.kernel.accessAllowed ? 'block' : 'none';\n",
              "}\n",
              "\n",
              "        displayQuickchartButton(document);\n",
              "      </script>\n",
              "      <style>\n",
              "    .colab-df-container {\n",
              "      display:flex;\n",
              "      flex-wrap:wrap;\n",
              "      gap: 12px;\n",
              "    }\n",
              "\n",
              "    .colab-df-convert {\n",
              "      background-color: #E8F0FE;\n",
              "      border: none;\n",
              "      border-radius: 50%;\n",
              "      cursor: pointer;\n",
              "      display: none;\n",
              "      fill: #1967D2;\n",
              "      height: 32px;\n",
              "      padding: 0 0 0 0;\n",
              "      width: 32px;\n",
              "    }\n",
              "\n",
              "    .colab-df-convert:hover {\n",
              "      background-color: #E2EBFA;\n",
              "      box-shadow: 0px 1px 2px rgba(60, 64, 67, 0.3), 0px 1px 3px 1px rgba(60, 64, 67, 0.15);\n",
              "      fill: #174EA6;\n",
              "    }\n",
              "\n",
              "    [theme=dark] .colab-df-convert {\n",
              "      background-color: #3B4455;\n",
              "      fill: #D2E3FC;\n",
              "    }\n",
              "\n",
              "    [theme=dark] .colab-df-convert:hover {\n",
              "      background-color: #434B5C;\n",
              "      box-shadow: 0px 1px 3px 1px rgba(0, 0, 0, 0.15);\n",
              "      filter: drop-shadow(0px 1px 2px rgba(0, 0, 0, 0.3));\n",
              "      fill: #FFFFFF;\n",
              "    }\n",
              "  </style>\n",
              "\n",
              "      <script>\n",
              "        const buttonEl =\n",
              "          document.querySelector('#df-5676d09e-eca3-49c7-a533-421a2b86dac6 button.colab-df-convert');\n",
              "        buttonEl.style.display =\n",
              "          google.colab.kernel.accessAllowed ? 'block' : 'none';\n",
              "\n",
              "        async function convertToInteractive(key) {\n",
              "          const element = document.querySelector('#df-5676d09e-eca3-49c7-a533-421a2b86dac6');\n",
              "          const dataTable =\n",
              "            await google.colab.kernel.invokeFunction('convertToInteractive',\n",
              "                                                     [key], {});\n",
              "          if (!dataTable) return;\n",
              "\n",
              "          const docLinkHtml = 'Like what you see? Visit the ' +\n",
              "            '<a target=\"_blank\" href=https://colab.research.google.com/notebooks/data_table.ipynb>data table notebook</a>'\n",
              "            + ' to learn more about interactive tables.';\n",
              "          element.innerHTML = '';\n",
              "          dataTable['output_type'] = 'display_data';\n",
              "          await google.colab.output.renderOutput(dataTable, element);\n",
              "          const docLink = document.createElement('div');\n",
              "          docLink.innerHTML = docLinkHtml;\n",
              "          element.appendChild(docLink);\n",
              "        }\n",
              "      </script>\n",
              "    </div>\n",
              "  </div>\n"
            ]
          },
          "metadata": {},
          "execution_count": 30
        }
      ]
    },
    {
      "cell_type": "code",
      "source": [
        "## Selecting 10% of the dataset for validation\n",
        "\n",
        "fraction_of_rows = train_df.sample(frac=0.1, random_state = 1)\n",
        "fraction_of_rows\n"
      ],
      "metadata": {
        "colab": {
          "base_uri": "https://localhost:8080/",
          "height": 522
        },
        "id": "5fqNRtW86qoS",
        "outputId": "ae33a57d-3cde-45c7-f326-0d01d0770f02"
      },
      "execution_count": null,
      "outputs": [
        {
          "output_type": "execute_result",
          "data": {
            "text/plain": [
              "       Type  Days for shipping (real)  Days for shipment (scheduled)  \\\n",
              "15815     0                         2                              1   \n",
              "9729      2                         2                              1   \n",
              "9398      1                         2                              4   \n",
              "33        1                         2                              1   \n",
              "12291     1                         4                              2   \n",
              "...     ...                       ...                            ...   \n",
              "19617     2                         2                              1   \n",
              "9650      2                         2                              1   \n",
              "10635     2                         6                              4   \n",
              "19701     2                         2                              1   \n",
              "2951      2                         2                              4   \n",
              "\n",
              "       Benefit per order  Sales per customer  Category Id  Category Name  \\\n",
              "15815          11.620000          116.199997           40              0   \n",
              "9729           27.350000          103.989998           18             29   \n",
              "9398           62.240002          414.959992            9             10   \n",
              "33            -97.339996          324.470001           73             34   \n",
              "12291          29.100000          290.950012           17             12   \n",
              "...                  ...                 ...          ...            ...   \n",
              "19617         131.020004          272.950012           17             12   \n",
              "9650           60.520000          126.089996           18             29   \n",
              "10635        -198.699997          149.960007           29             32   \n",
              "19701         -14.430000          163.960007           29             32   \n",
              "2951            5.760000           35.990002           29             32   \n",
              "\n",
              "       Customer City  Customer Country  Customer Id  ...  Product Name  \\\n",
              "15815             87                 0          256  ...            66   \n",
              "9729             408                 0         4394  ...            40   \n",
              "9398              87                 0        11417  ...            45   \n",
              "33               127                 0        19460  ...            58   \n",
              "12291             65                 1         8288  ...            51   \n",
              "...              ...               ...          ...  ...           ...   \n",
              "19617            127                 0         6288  ...            51   \n",
              "9650             346                 0         3497  ...            40   \n",
              "10635             65                 1        12221  ...            75   \n",
              "19701            524                 0          697  ...            75   \n",
              "2951              65                 1         6411  ...            75   \n",
              "\n",
              "       Product Price  Shipping Mode  Cust_Full_Name  order_yr  order_month  \\\n",
              "15815      24.990000              0            1051      2015            5   \n",
              "9729      129.990005              0             870      2017            6   \n",
              "9398       99.989998              3            2495      2016            7   \n",
              "33        327.750000              0            1153      2018            1   \n",
              "12291      59.990002              2            4024      2016           12   \n",
              "...              ...            ...             ...       ...          ...   \n",
              "19617      59.990002              0             723      2017            1   \n",
              "9650      129.990005              0            3591      2015           10   \n",
              "10635      39.990002              3             452      2017            2   \n",
              "19701      39.990002              0            1633      2017            4   \n",
              "2951       39.990002              3            2648      2015           10   \n",
              "\n",
              "       order_day  order_hour  fraud  late_delivery  \n",
              "15815          1           4      0              1  \n",
              "9729           0           0      0              1  \n",
              "9398           6          21      0              0  \n",
              "33             5           1      0              1  \n",
              "12291          4          13      0              1  \n",
              "...          ...         ...    ...            ...  \n",
              "19617          6          17      0              1  \n",
              "9650           2          19      0              1  \n",
              "10635          4          14      0              1  \n",
              "19701          2           0      0              1  \n",
              "2951           2          11      0              0  \n",
              "\n",
              "[2185 rows x 44 columns]"
            ],
            "text/html": [
              "\n",
              "\n",
              "  <div id=\"df-e67a5423-0bc1-4701-b7be-a72b78d1c58e\">\n",
              "    <div class=\"colab-df-container\">\n",
              "      <div>\n",
              "<style scoped>\n",
              "    .dataframe tbody tr th:only-of-type {\n",
              "        vertical-align: middle;\n",
              "    }\n",
              "\n",
              "    .dataframe tbody tr th {\n",
              "        vertical-align: top;\n",
              "    }\n",
              "\n",
              "    .dataframe thead th {\n",
              "        text-align: right;\n",
              "    }\n",
              "</style>\n",
              "<table border=\"1\" class=\"dataframe\">\n",
              "  <thead>\n",
              "    <tr style=\"text-align: right;\">\n",
              "      <th></th>\n",
              "      <th>Type</th>\n",
              "      <th>Days for shipping (real)</th>\n",
              "      <th>Days for shipment (scheduled)</th>\n",
              "      <th>Benefit per order</th>\n",
              "      <th>Sales per customer</th>\n",
              "      <th>Category Id</th>\n",
              "      <th>Category Name</th>\n",
              "      <th>Customer City</th>\n",
              "      <th>Customer Country</th>\n",
              "      <th>Customer Id</th>\n",
              "      <th>...</th>\n",
              "      <th>Product Name</th>\n",
              "      <th>Product Price</th>\n",
              "      <th>Shipping Mode</th>\n",
              "      <th>Cust_Full_Name</th>\n",
              "      <th>order_yr</th>\n",
              "      <th>order_month</th>\n",
              "      <th>order_day</th>\n",
              "      <th>order_hour</th>\n",
              "      <th>fraud</th>\n",
              "      <th>late_delivery</th>\n",
              "    </tr>\n",
              "  </thead>\n",
              "  <tbody>\n",
              "    <tr>\n",
              "      <th>15815</th>\n",
              "      <td>0</td>\n",
              "      <td>2</td>\n",
              "      <td>1</td>\n",
              "      <td>11.620000</td>\n",
              "      <td>116.199997</td>\n",
              "      <td>40</td>\n",
              "      <td>0</td>\n",
              "      <td>87</td>\n",
              "      <td>0</td>\n",
              "      <td>256</td>\n",
              "      <td>...</td>\n",
              "      <td>66</td>\n",
              "      <td>24.990000</td>\n",
              "      <td>0</td>\n",
              "      <td>1051</td>\n",
              "      <td>2015</td>\n",
              "      <td>5</td>\n",
              "      <td>1</td>\n",
              "      <td>4</td>\n",
              "      <td>0</td>\n",
              "      <td>1</td>\n",
              "    </tr>\n",
              "    <tr>\n",
              "      <th>9729</th>\n",
              "      <td>2</td>\n",
              "      <td>2</td>\n",
              "      <td>1</td>\n",
              "      <td>27.350000</td>\n",
              "      <td>103.989998</td>\n",
              "      <td>18</td>\n",
              "      <td>29</td>\n",
              "      <td>408</td>\n",
              "      <td>0</td>\n",
              "      <td>4394</td>\n",
              "      <td>...</td>\n",
              "      <td>40</td>\n",
              "      <td>129.990005</td>\n",
              "      <td>0</td>\n",
              "      <td>870</td>\n",
              "      <td>2017</td>\n",
              "      <td>6</td>\n",
              "      <td>0</td>\n",
              "      <td>0</td>\n",
              "      <td>0</td>\n",
              "      <td>1</td>\n",
              "    </tr>\n",
              "    <tr>\n",
              "      <th>9398</th>\n",
              "      <td>1</td>\n",
              "      <td>2</td>\n",
              "      <td>4</td>\n",
              "      <td>62.240002</td>\n",
              "      <td>414.959992</td>\n",
              "      <td>9</td>\n",
              "      <td>10</td>\n",
              "      <td>87</td>\n",
              "      <td>0</td>\n",
              "      <td>11417</td>\n",
              "      <td>...</td>\n",
              "      <td>45</td>\n",
              "      <td>99.989998</td>\n",
              "      <td>3</td>\n",
              "      <td>2495</td>\n",
              "      <td>2016</td>\n",
              "      <td>7</td>\n",
              "      <td>6</td>\n",
              "      <td>21</td>\n",
              "      <td>0</td>\n",
              "      <td>0</td>\n",
              "    </tr>\n",
              "    <tr>\n",
              "      <th>33</th>\n",
              "      <td>1</td>\n",
              "      <td>2</td>\n",
              "      <td>1</td>\n",
              "      <td>-97.339996</td>\n",
              "      <td>324.470001</td>\n",
              "      <td>73</td>\n",
              "      <td>34</td>\n",
              "      <td>127</td>\n",
              "      <td>0</td>\n",
              "      <td>19460</td>\n",
              "      <td>...</td>\n",
              "      <td>58</td>\n",
              "      <td>327.750000</td>\n",
              "      <td>0</td>\n",
              "      <td>1153</td>\n",
              "      <td>2018</td>\n",
              "      <td>1</td>\n",
              "      <td>5</td>\n",
              "      <td>1</td>\n",
              "      <td>0</td>\n",
              "      <td>1</td>\n",
              "    </tr>\n",
              "    <tr>\n",
              "      <th>12291</th>\n",
              "      <td>1</td>\n",
              "      <td>4</td>\n",
              "      <td>2</td>\n",
              "      <td>29.100000</td>\n",
              "      <td>290.950012</td>\n",
              "      <td>17</td>\n",
              "      <td>12</td>\n",
              "      <td>65</td>\n",
              "      <td>1</td>\n",
              "      <td>8288</td>\n",
              "      <td>...</td>\n",
              "      <td>51</td>\n",
              "      <td>59.990002</td>\n",
              "      <td>2</td>\n",
              "      <td>4024</td>\n",
              "      <td>2016</td>\n",
              "      <td>12</td>\n",
              "      <td>4</td>\n",
              "      <td>13</td>\n",
              "      <td>0</td>\n",
              "      <td>1</td>\n",
              "    </tr>\n",
              "    <tr>\n",
              "      <th>...</th>\n",
              "      <td>...</td>\n",
              "      <td>...</td>\n",
              "      <td>...</td>\n",
              "      <td>...</td>\n",
              "      <td>...</td>\n",
              "      <td>...</td>\n",
              "      <td>...</td>\n",
              "      <td>...</td>\n",
              "      <td>...</td>\n",
              "      <td>...</td>\n",
              "      <td>...</td>\n",
              "      <td>...</td>\n",
              "      <td>...</td>\n",
              "      <td>...</td>\n",
              "      <td>...</td>\n",
              "      <td>...</td>\n",
              "      <td>...</td>\n",
              "      <td>...</td>\n",
              "      <td>...</td>\n",
              "      <td>...</td>\n",
              "      <td>...</td>\n",
              "    </tr>\n",
              "    <tr>\n",
              "      <th>19617</th>\n",
              "      <td>2</td>\n",
              "      <td>2</td>\n",
              "      <td>1</td>\n",
              "      <td>131.020004</td>\n",
              "      <td>272.950012</td>\n",
              "      <td>17</td>\n",
              "      <td>12</td>\n",
              "      <td>127</td>\n",
              "      <td>0</td>\n",
              "      <td>6288</td>\n",
              "      <td>...</td>\n",
              "      <td>51</td>\n",
              "      <td>59.990002</td>\n",
              "      <td>0</td>\n",
              "      <td>723</td>\n",
              "      <td>2017</td>\n",
              "      <td>1</td>\n",
              "      <td>6</td>\n",
              "      <td>17</td>\n",
              "      <td>0</td>\n",
              "      <td>1</td>\n",
              "    </tr>\n",
              "    <tr>\n",
              "      <th>9650</th>\n",
              "      <td>2</td>\n",
              "      <td>2</td>\n",
              "      <td>1</td>\n",
              "      <td>60.520000</td>\n",
              "      <td>126.089996</td>\n",
              "      <td>18</td>\n",
              "      <td>29</td>\n",
              "      <td>346</td>\n",
              "      <td>0</td>\n",
              "      <td>3497</td>\n",
              "      <td>...</td>\n",
              "      <td>40</td>\n",
              "      <td>129.990005</td>\n",
              "      <td>0</td>\n",
              "      <td>3591</td>\n",
              "      <td>2015</td>\n",
              "      <td>10</td>\n",
              "      <td>2</td>\n",
              "      <td>19</td>\n",
              "      <td>0</td>\n",
              "      <td>1</td>\n",
              "    </tr>\n",
              "    <tr>\n",
              "      <th>10635</th>\n",
              "      <td>2</td>\n",
              "      <td>6</td>\n",
              "      <td>4</td>\n",
              "      <td>-198.699997</td>\n",
              "      <td>149.960007</td>\n",
              "      <td>29</td>\n",
              "      <td>32</td>\n",
              "      <td>65</td>\n",
              "      <td>1</td>\n",
              "      <td>12221</td>\n",
              "      <td>...</td>\n",
              "      <td>75</td>\n",
              "      <td>39.990002</td>\n",
              "      <td>3</td>\n",
              "      <td>452</td>\n",
              "      <td>2017</td>\n",
              "      <td>2</td>\n",
              "      <td>4</td>\n",
              "      <td>14</td>\n",
              "      <td>0</td>\n",
              "      <td>1</td>\n",
              "    </tr>\n",
              "    <tr>\n",
              "      <th>19701</th>\n",
              "      <td>2</td>\n",
              "      <td>2</td>\n",
              "      <td>1</td>\n",
              "      <td>-14.430000</td>\n",
              "      <td>163.960007</td>\n",
              "      <td>29</td>\n",
              "      <td>32</td>\n",
              "      <td>524</td>\n",
              "      <td>0</td>\n",
              "      <td>697</td>\n",
              "      <td>...</td>\n",
              "      <td>75</td>\n",
              "      <td>39.990002</td>\n",
              "      <td>0</td>\n",
              "      <td>1633</td>\n",
              "      <td>2017</td>\n",
              "      <td>4</td>\n",
              "      <td>2</td>\n",
              "      <td>0</td>\n",
              "      <td>0</td>\n",
              "      <td>1</td>\n",
              "    </tr>\n",
              "    <tr>\n",
              "      <th>2951</th>\n",
              "      <td>2</td>\n",
              "      <td>2</td>\n",
              "      <td>4</td>\n",
              "      <td>5.760000</td>\n",
              "      <td>35.990002</td>\n",
              "      <td>29</td>\n",
              "      <td>32</td>\n",
              "      <td>65</td>\n",
              "      <td>1</td>\n",
              "      <td>6411</td>\n",
              "      <td>...</td>\n",
              "      <td>75</td>\n",
              "      <td>39.990002</td>\n",
              "      <td>3</td>\n",
              "      <td>2648</td>\n",
              "      <td>2015</td>\n",
              "      <td>10</td>\n",
              "      <td>2</td>\n",
              "      <td>11</td>\n",
              "      <td>0</td>\n",
              "      <td>0</td>\n",
              "    </tr>\n",
              "  </tbody>\n",
              "</table>\n",
              "<p>2185 rows × 44 columns</p>\n",
              "</div>\n",
              "      <button class=\"colab-df-convert\" onclick=\"convertToInteractive('df-e67a5423-0bc1-4701-b7be-a72b78d1c58e')\"\n",
              "              title=\"Convert this dataframe to an interactive table.\"\n",
              "              style=\"display:none;\">\n",
              "\n",
              "  <svg xmlns=\"http://www.w3.org/2000/svg\" height=\"24px\"viewBox=\"0 0 24 24\"\n",
              "       width=\"24px\">\n",
              "    <path d=\"M0 0h24v24H0V0z\" fill=\"none\"/>\n",
              "    <path d=\"M18.56 5.44l.94 2.06.94-2.06 2.06-.94-2.06-.94-.94-2.06-.94 2.06-2.06.94zm-11 1L8.5 8.5l.94-2.06 2.06-.94-2.06-.94L8.5 2.5l-.94 2.06-2.06.94zm10 10l.94 2.06.94-2.06 2.06-.94-2.06-.94-.94-2.06-.94 2.06-2.06.94z\"/><path d=\"M17.41 7.96l-1.37-1.37c-.4-.4-.92-.59-1.43-.59-.52 0-1.04.2-1.43.59L10.3 9.45l-7.72 7.72c-.78.78-.78 2.05 0 2.83L4 21.41c.39.39.9.59 1.41.59.51 0 1.02-.2 1.41-.59l7.78-7.78 2.81-2.81c.8-.78.8-2.07 0-2.86zM5.41 20L4 18.59l7.72-7.72 1.47 1.35L5.41 20z\"/>\n",
              "  </svg>\n",
              "      </button>\n",
              "\n",
              "\n",
              "\n",
              "    <div id=\"df-334f68e9-1f7e-4da9-9b4b-56473963a95d\">\n",
              "      <button class=\"colab-df-quickchart\" onclick=\"quickchart('df-334f68e9-1f7e-4da9-9b4b-56473963a95d')\"\n",
              "              title=\"Suggest charts.\"\n",
              "              style=\"display:none;\">\n",
              "\n",
              "<svg xmlns=\"http://www.w3.org/2000/svg\" height=\"24px\"viewBox=\"0 0 24 24\"\n",
              "     width=\"24px\">\n",
              "    <g>\n",
              "        <path d=\"M19 3H5c-1.1 0-2 .9-2 2v14c0 1.1.9 2 2 2h14c1.1 0 2-.9 2-2V5c0-1.1-.9-2-2-2zM9 17H7v-7h2v7zm4 0h-2V7h2v10zm4 0h-2v-4h2v4z\"/>\n",
              "    </g>\n",
              "</svg>\n",
              "      </button>\n",
              "    </div>\n",
              "\n",
              "<style>\n",
              "  .colab-df-quickchart {\n",
              "    background-color: #E8F0FE;\n",
              "    border: none;\n",
              "    border-radius: 50%;\n",
              "    cursor: pointer;\n",
              "    display: none;\n",
              "    fill: #1967D2;\n",
              "    height: 32px;\n",
              "    padding: 0 0 0 0;\n",
              "    width: 32px;\n",
              "  }\n",
              "\n",
              "  .colab-df-quickchart:hover {\n",
              "    background-color: #E2EBFA;\n",
              "    box-shadow: 0px 1px 2px rgba(60, 64, 67, 0.3), 0px 1px 3px 1px rgba(60, 64, 67, 0.15);\n",
              "    fill: #174EA6;\n",
              "  }\n",
              "\n",
              "  [theme=dark] .colab-df-quickchart {\n",
              "    background-color: #3B4455;\n",
              "    fill: #D2E3FC;\n",
              "  }\n",
              "\n",
              "  [theme=dark] .colab-df-quickchart:hover {\n",
              "    background-color: #434B5C;\n",
              "    box-shadow: 0px 1px 3px 1px rgba(0, 0, 0, 0.15);\n",
              "    filter: drop-shadow(0px 1px 2px rgba(0, 0, 0, 0.3));\n",
              "    fill: #FFFFFF;\n",
              "  }\n",
              "</style>\n",
              "\n",
              "    <script>\n",
              "      async function quickchart(key) {\n",
              "        const containerElement = document.querySelector('#' + key);\n",
              "        const charts = await google.colab.kernel.invokeFunction(\n",
              "            'suggestCharts', [key], {});\n",
              "      }\n",
              "    </script>\n",
              "\n",
              "      <script>\n",
              "\n",
              "function displayQuickchartButton(domScope) {\n",
              "  let quickchartButtonEl =\n",
              "    domScope.querySelector('#df-334f68e9-1f7e-4da9-9b4b-56473963a95d button.colab-df-quickchart');\n",
              "  quickchartButtonEl.style.display =\n",
              "    google.colab.kernel.accessAllowed ? 'block' : 'none';\n",
              "}\n",
              "\n",
              "        displayQuickchartButton(document);\n",
              "      </script>\n",
              "      <style>\n",
              "    .colab-df-container {\n",
              "      display:flex;\n",
              "      flex-wrap:wrap;\n",
              "      gap: 12px;\n",
              "    }\n",
              "\n",
              "    .colab-df-convert {\n",
              "      background-color: #E8F0FE;\n",
              "      border: none;\n",
              "      border-radius: 50%;\n",
              "      cursor: pointer;\n",
              "      display: none;\n",
              "      fill: #1967D2;\n",
              "      height: 32px;\n",
              "      padding: 0 0 0 0;\n",
              "      width: 32px;\n",
              "    }\n",
              "\n",
              "    .colab-df-convert:hover {\n",
              "      background-color: #E2EBFA;\n",
              "      box-shadow: 0px 1px 2px rgba(60, 64, 67, 0.3), 0px 1px 3px 1px rgba(60, 64, 67, 0.15);\n",
              "      fill: #174EA6;\n",
              "    }\n",
              "\n",
              "    [theme=dark] .colab-df-convert {\n",
              "      background-color: #3B4455;\n",
              "      fill: #D2E3FC;\n",
              "    }\n",
              "\n",
              "    [theme=dark] .colab-df-convert:hover {\n",
              "      background-color: #434B5C;\n",
              "      box-shadow: 0px 1px 3px 1px rgba(0, 0, 0, 0.15);\n",
              "      filter: drop-shadow(0px 1px 2px rgba(0, 0, 0, 0.3));\n",
              "      fill: #FFFFFF;\n",
              "    }\n",
              "  </style>\n",
              "\n",
              "      <script>\n",
              "        const buttonEl =\n",
              "          document.querySelector('#df-e67a5423-0bc1-4701-b7be-a72b78d1c58e button.colab-df-convert');\n",
              "        buttonEl.style.display =\n",
              "          google.colab.kernel.accessAllowed ? 'block' : 'none';\n",
              "\n",
              "        async function convertToInteractive(key) {\n",
              "          const element = document.querySelector('#df-e67a5423-0bc1-4701-b7be-a72b78d1c58e');\n",
              "          const dataTable =\n",
              "            await google.colab.kernel.invokeFunction('convertToInteractive',\n",
              "                                                     [key], {});\n",
              "          if (!dataTable) return;\n",
              "\n",
              "          const docLinkHtml = 'Like what you see? Visit the ' +\n",
              "            '<a target=\"_blank\" href=https://colab.research.google.com/notebooks/data_table.ipynb>data table notebook</a>'\n",
              "            + ' to learn more about interactive tables.';\n",
              "          element.innerHTML = '';\n",
              "          dataTable['output_type'] = 'display_data';\n",
              "          await google.colab.output.renderOutput(dataTable, element);\n",
              "          const docLink = document.createElement('div');\n",
              "          docLink.innerHTML = docLinkHtml;\n",
              "          element.appendChild(docLink);\n",
              "        }\n",
              "      </script>\n",
              "    </div>\n",
              "  </div>\n"
            ]
          },
          "metadata": {},
          "execution_count": 31
        }
      ]
    },
    {
      "cell_type": "code",
      "source": [
        "## Creating a list of index of the samples to be dropped from the main dataset\n",
        "\n",
        "index = fraction_of_rows.index.values.tolist()\n",
        "index"
      ],
      "metadata": {
        "colab": {
          "base_uri": "https://localhost:8080/"
        },
        "id": "0w2kchju6tW7",
        "outputId": "5ab85ee9-bc70-456b-f511-916dd57ea7a7"
      },
      "execution_count": null,
      "outputs": [
        {
          "output_type": "execute_result",
          "data": {
            "text/plain": [
              "[15815,\n",
              " 9729,\n",
              " 9398,\n",
              " 33,\n",
              " 12291,\n",
              " 8146,\n",
              " 13093,\n",
              " 7716,\n",
              " 14857,\n",
              " 10547,\n",
              " 15344,\n",
              " 4271,\n",
              " 7918,\n",
              " 2124,\n",
              " 19625,\n",
              " 4633,\n",
              " 21594,\n",
              " 2098,\n",
              " 4348,\n",
              " 11986,\n",
              " 14257,\n",
              " 14171,\n",
              " 6273,\n",
              " 6534,\n",
              " 17854,\n",
              " 8520,\n",
              " 4973,\n",
              " 8760,\n",
              " 1295,\n",
              " 16178,\n",
              " 14788,\n",
              " 20309,\n",
              " 16198,\n",
              " 7083,\n",
              " 7361,\n",
              " 2028,\n",
              " 20774,\n",
              " 12094,\n",
              " 5193,\n",
              " 17006,\n",
              " 18515,\n",
              " 18592,\n",
              " 2806,\n",
              " 11699,\n",
              " 5682,\n",
              " 2739,\n",
              " 7969,\n",
              " 7355,\n",
              " 19221,\n",
              " 7622,\n",
              " 5522,\n",
              " 14908,\n",
              " 14935,\n",
              " 12845,\n",
              " 5607,\n",
              " 14469,\n",
              " 5055,\n",
              " 13745,\n",
              " 3832,\n",
              " 17286,\n",
              " 2278,\n",
              " 891,\n",
              " 7995,\n",
              " 10211,\n",
              " 5453,\n",
              " 14803,\n",
              " 9017,\n",
              " 13928,\n",
              " 1524,\n",
              " 3609,\n",
              " 17947,\n",
              " 16441,\n",
              " 21231,\n",
              " 17599,\n",
              " 19023,\n",
              " 1893,\n",
              " 8712,\n",
              " 19211,\n",
              " 15742,\n",
              " 4921,\n",
              " 551,\n",
              " 12156,\n",
              " 16222,\n",
              " 9081,\n",
              " 13393,\n",
              " 18577,\n",
              " 10373,\n",
              " 15692,\n",
              " 13849,\n",
              " 3191,\n",
              " 16624,\n",
              " 565,\n",
              " 4679,\n",
              " 596,\n",
              " 13930,\n",
              " 21482,\n",
              " 3785,\n",
              " 8030,\n",
              " 8473,\n",
              " 2528,\n",
              " 19510,\n",
              " 1603,\n",
              " 1520,\n",
              " 5595,\n",
              " 16522,\n",
              " 5229,\n",
              " 16346,\n",
              " 938,\n",
              " 20620,\n",
              " 20572,\n",
              " 18801,\n",
              " 2093,\n",
              " 6348,\n",
              " 19401,\n",
              " 10371,\n",
              " 1638,\n",
              " 11425,\n",
              " 11659,\n",
              " 8295,\n",
              " 5213,\n",
              " 21315,\n",
              " 12091,\n",
              " 5795,\n",
              " 153,\n",
              " 7037,\n",
              " 11246,\n",
              " 19568,\n",
              " 12293,\n",
              " 18368,\n",
              " 9522,\n",
              " 21091,\n",
              " 7787,\n",
              " 8940,\n",
              " 12511,\n",
              " 227,\n",
              " 6437,\n",
              " 6211,\n",
              " 7739,\n",
              " 5507,\n",
              " 12806,\n",
              " 13696,\n",
              " 8338,\n",
              " 11950,\n",
              " 13,\n",
              " 18450,\n",
              " 15598,\n",
              " 484,\n",
              " 21245,\n",
              " 8102,\n",
              " 2038,\n",
              " 7652,\n",
              " 16429,\n",
              " 14293,\n",
              " 4982,\n",
              " 6085,\n",
              " 7081,\n",
              " 13049,\n",
              " 19334,\n",
              " 12256,\n",
              " 18198,\n",
              " 6120,\n",
              " 5281,\n",
              " 10676,\n",
              " 3128,\n",
              " 17365,\n",
              " 694,\n",
              " 20293,\n",
              " 7777,\n",
              " 11531,\n",
              " 8628,\n",
              " 18145,\n",
              " 17595,\n",
              " 4438,\n",
              " 19538,\n",
              " 8050,\n",
              " 352,\n",
              " 17208,\n",
              " 12508,\n",
              " 2232,\n",
              " 6037,\n",
              " 13122,\n",
              " 20457,\n",
              " 837,\n",
              " 4370,\n",
              " 12875,\n",
              " 16293,\n",
              " 16167,\n",
              " 13295,\n",
              " 12552,\n",
              " 4792,\n",
              " 5793,\n",
              " 20372,\n",
              " 8158,\n",
              " 6500,\n",
              " 19284,\n",
              " 21740,\n",
              " 13789,\n",
              " 6528,\n",
              " 6839,\n",
              " 14139,\n",
              " 741,\n",
              " 16564,\n",
              " 5997,\n",
              " 11153,\n",
              " 5259,\n",
              " 4244,\n",
              " 6398,\n",
              " 2047,\n",
              " 19746,\n",
              " 9348,\n",
              " 8576,\n",
              " 8487,\n",
              " 21281,\n",
              " 21464,\n",
              " 8093,\n",
              " 246,\n",
              " 9588,\n",
              " 6055,\n",
              " 16507,\n",
              " 14853,\n",
              " 2682,\n",
              " 2206,\n",
              " 3983,\n",
              " 13629,\n",
              " 16500,\n",
              " 11196,\n",
              " 12089,\n",
              " 12413,\n",
              " 10634,\n",
              " 5700,\n",
              " 5617,\n",
              " 2447,\n",
              " 14738,\n",
              " 19991,\n",
              " 3969,\n",
              " 8390,\n",
              " 19278,\n",
              " 1362,\n",
              " 417,\n",
              " 4014,\n",
              " 415,\n",
              " 4707,\n",
              " 2476,\n",
              " 6595,\n",
              " 4222,\n",
              " 10454,\n",
              " 17430,\n",
              " 15159,\n",
              " 17124,\n",
              " 10858,\n",
              " 918,\n",
              " 15152,\n",
              " 12741,\n",
              " 10551,\n",
              " 20801,\n",
              " 11170,\n",
              " 2907,\n",
              " 4403,\n",
              " 10930,\n",
              " 559,\n",
              " 21778,\n",
              " 7915,\n",
              " 6830,\n",
              " 275,\n",
              " 21017,\n",
              " 19332,\n",
              " 20593,\n",
              " 12396,\n",
              " 7649,\n",
              " 300,\n",
              " 15890,\n",
              " 5262,\n",
              " 5096,\n",
              " 12809,\n",
              " 14405,\n",
              " 2055,\n",
              " 2610,\n",
              " 14642,\n",
              " 2377,\n",
              " 8299,\n",
              " 1405,\n",
              " 811,\n",
              " 8420,\n",
              " 10925,\n",
              " 18274,\n",
              " 19,\n",
              " 4286,\n",
              " 20628,\n",
              " 1225,\n",
              " 5659,\n",
              " 9761,\n",
              " 14047,\n",
              " 3095,\n",
              " 17378,\n",
              " 5723,\n",
              " 11302,\n",
              " 18081,\n",
              " 4253,\n",
              " 7498,\n",
              " 10545,\n",
              " 20212,\n",
              " 1916,\n",
              " 17129,\n",
              " 2560,\n",
              " 10502,\n",
              " 7310,\n",
              " 14660,\n",
              " 5860,\n",
              " 11985,\n",
              " 2578,\n",
              " 16364,\n",
              " 6222,\n",
              " 11203,\n",
              " 8326,\n",
              " 9176,\n",
              " 17765,\n",
              " 21821,\n",
              " 3247,\n",
              " 17178,\n",
              " 4127,\n",
              " 18573,\n",
              " 5101,\n",
              " 15275,\n",
              " 5265,\n",
              " 9300,\n",
              " 14531,\n",
              " 18982,\n",
              " 19810,\n",
              " 4530,\n",
              " 16727,\n",
              " 10982,\n",
              " 20044,\n",
              " 110,\n",
              " 16504,\n",
              " 21115,\n",
              " 6636,\n",
              " 20836,\n",
              " 14255,\n",
              " 19159,\n",
              " 11440,\n",
              " 2072,\n",
              " 4111,\n",
              " 17625,\n",
              " 5461,\n",
              " 13398,\n",
              " 9594,\n",
              " 6912,\n",
              " 3158,\n",
              " 506,\n",
              " 3821,\n",
              " 13814,\n",
              " 9342,\n",
              " 10153,\n",
              " 8464,\n",
              " 10292,\n",
              " 9692,\n",
              " 20067,\n",
              " 11109,\n",
              " 21735,\n",
              " 12516,\n",
              " 13185,\n",
              " 2123,\n",
              " 19864,\n",
              " 2641,\n",
              " 3579,\n",
              " 6892,\n",
              " 21572,\n",
              " 3830,\n",
              " 20552,\n",
              " 6249,\n",
              " 8382,\n",
              " 15515,\n",
              " 14570,\n",
              " 9757,\n",
              " 17718,\n",
              " 19753,\n",
              " 2784,\n",
              " 17364,\n",
              " 17340,\n",
              " 219,\n",
              " 4841,\n",
              " 10881,\n",
              " 16977,\n",
              " 17872,\n",
              " 290,\n",
              " 6295,\n",
              " 15758,\n",
              " 397,\n",
              " 20242,\n",
              " 21498,\n",
              " 10650,\n",
              " 9528,\n",
              " 9191,\n",
              " 11195,\n",
              " 2247,\n",
              " 19981,\n",
              " 11923,\n",
              " 6377,\n",
              " 554,\n",
              " 510,\n",
              " 18302,\n",
              " 7295,\n",
              " 14403,\n",
              " 3809,\n",
              " 4806,\n",
              " 15856,\n",
              " 1621,\n",
              " 8143,\n",
              " 7638,\n",
              " 6433,\n",
              " 13876,\n",
              " 11495,\n",
              " 16688,\n",
              " 7088,\n",
              " 10582,\n",
              " 10753,\n",
              " 1201,\n",
              " 16918,\n",
              " 19889,\n",
              " 16840,\n",
              " 6254,\n",
              " 16258,\n",
              " 419,\n",
              " 19886,\n",
              " 5044,\n",
              " 13906,\n",
              " 8799,\n",
              " 11053,\n",
              " 10243,\n",
              " 8618,\n",
              " 5544,\n",
              " 14582,\n",
              " 2032,\n",
              " 10517,\n",
              " 19554,\n",
              " 12021,\n",
              " 9376,\n",
              " 18540,\n",
              " 19016,\n",
              " 5073,\n",
              " 6420,\n",
              " 19195,\n",
              " 10008,\n",
              " 18778,\n",
              " 12127,\n",
              " 1013,\n",
              " 332,\n",
              " 4796,\n",
              " 10731,\n",
              " 438,\n",
              " 8168,\n",
              " 11772,\n",
              " 4593,\n",
              " 20520,\n",
              " 7234,\n",
              " 13394,\n",
              " 21410,\n",
              " 13047,\n",
              " 10062,\n",
              " 1026,\n",
              " 20155,\n",
              " 9694,\n",
              " 6246,\n",
              " 19714,\n",
              " 15005,\n",
              " 3600,\n",
              " 6482,\n",
              " 14223,\n",
              " 1637,\n",
              " 5568,\n",
              " 5878,\n",
              " 3368,\n",
              " 12459,\n",
              " 12660,\n",
              " 15744,\n",
              " 10691,\n",
              " 7914,\n",
              " 6269,\n",
              " 638,\n",
              " 12452,\n",
              " 13404,\n",
              " 15523,\n",
              " 19590,\n",
              " 1480,\n",
              " 16140,\n",
              " 21528,\n",
              " 16008,\n",
              " 5631,\n",
              " 5061,\n",
              " 11571,\n",
              " 10402,\n",
              " 3861,\n",
              " 9399,\n",
              " 4330,\n",
              " 9123,\n",
              " 1300,\n",
              " 13822,\n",
              " 7162,\n",
              " 1090,\n",
              " 11592,\n",
              " 19707,\n",
              " 12280,\n",
              " 1869,\n",
              " 20503,\n",
              " 16158,\n",
              " 1421,\n",
              " 3058,\n",
              " 16995,\n",
              " 15478,\n",
              " 20256,\n",
              " 15574,\n",
              " 3011,\n",
              " 12523,\n",
              " 21336,\n",
              " 16613,\n",
              " 19299,\n",
              " 7775,\n",
              " 14985,\n",
              " 12478,\n",
              " 5129,\n",
              " 21603,\n",
              " 21533,\n",
              " 1604,\n",
              " 8032,\n",
              " 10535,\n",
              " 945,\n",
              " 8239,\n",
              " 8153,\n",
              " 13581,\n",
              " 4906,\n",
              " 13443,\n",
              " 19627,\n",
              " 18775,\n",
              " 6012,\n",
              " 21466,\n",
              " 9075,\n",
              " 12149,\n",
              " 1350,\n",
              " 11413,\n",
              " 11339,\n",
              " 15256,\n",
              " 1772,\n",
              " 11002,\n",
              " 1623,\n",
              " 15992,\n",
              " 19196,\n",
              " 4368,\n",
              " 15862,\n",
              " 4501,\n",
              " 7487,\n",
              " 6256,\n",
              " 16709,\n",
              " 20597,\n",
              " 9518,\n",
              " 4646,\n",
              " 12051,\n",
              " 3810,\n",
              " 18774,\n",
              " 6458,\n",
              " 1289,\n",
              " 9350,\n",
              " 10138,\n",
              " 12559,\n",
              " 13229,\n",
              " 6544,\n",
              " 17876,\n",
              " 12993,\n",
              " 13666,\n",
              " 21232,\n",
              " 12609,\n",
              " 14496,\n",
              " 12556,\n",
              " 4617,\n",
              " 14415,\n",
              " 7259,\n",
              " 4349,\n",
              " 13847,\n",
              " 6194,\n",
              " 4563,\n",
              " 1915,\n",
              " 13411,\n",
              " 13643,\n",
              " 1113,\n",
              " 516,\n",
              " 7562,\n",
              " 10734,\n",
              " 5112,\n",
              " 2085,\n",
              " 3142,\n",
              " 17750,\n",
              " 16342,\n",
              " 13498,\n",
              " 2956,\n",
              " 13269,\n",
              " 10615,\n",
              " 19233,\n",
              " 16215,\n",
              " 19763,\n",
              " 14827,\n",
              " 11841,\n",
              " 15029,\n",
              " 2220,\n",
              " 1312,\n",
              " 12031,\n",
              " 3875,\n",
              " 10260,\n",
              " 18867,\n",
              " 8400,\n",
              " 21287,\n",
              " 19959,\n",
              " 9434,\n",
              " 14945,\n",
              " 11089,\n",
              " 5002,\n",
              " 7663,\n",
              " 3364,\n",
              " 11498,\n",
              " 13718,\n",
              " 5902,\n",
              " 16927,\n",
              " 3289,\n",
              " 14873,\n",
              " 17110,\n",
              " 6133,\n",
              " 10240,\n",
              " 7766,\n",
              " 7019,\n",
              " 8771,\n",
              " 2814,\n",
              " 16213,\n",
              " 2996,\n",
              " 10949,\n",
              " 17433,\n",
              " 608,\n",
              " 21648,\n",
              " 6020,\n",
              " 3057,\n",
              " 14269,\n",
              " 21538,\n",
              " 21068,\n",
              " 19455,\n",
              " 11516,\n",
              " 14235,\n",
              " 749,\n",
              " 14399,\n",
              " 8564,\n",
              " 17349,\n",
              " 10638,\n",
              " 7364,\n",
              " 13489,\n",
              " 17434,\n",
              " 12831,\n",
              " 9133,\n",
              " 19084,\n",
              " 7287,\n",
              " 17101,\n",
              " 15055,\n",
              " 7572,\n",
              " 12389,\n",
              " 82,\n",
              " 19446,\n",
              " 1260,\n",
              " 6192,\n",
              " 18301,\n",
              " 18108,\n",
              " 12751,\n",
              " 18228,\n",
              " 2894,\n",
              " 2539,\n",
              " 20887,\n",
              " 625,\n",
              " 18161,\n",
              " 5104,\n",
              " 11328,\n",
              " 4423,\n",
              " 3607,\n",
              " 8937,\n",
              " 21689,\n",
              " 19577,\n",
              " 14741,\n",
              " 20664,\n",
              " 12761,\n",
              " 7323,\n",
              " 4476,\n",
              " 17393,\n",
              " 20746,\n",
              " 13941,\n",
              " 12264,\n",
              " 7580,\n",
              " 19742,\n",
              " 6409,\n",
              " 11021,\n",
              " 13316,\n",
              " 6183,\n",
              " 12619,\n",
              " 18092,\n",
              " 3119,\n",
              " 6967,\n",
              " 17098,\n",
              " 16666,\n",
              " 14453,\n",
              " 5226,\n",
              " 11004,\n",
              " 15079,\n",
              " 1513,\n",
              " 17138,\n",
              " 11990,\n",
              " 12010,\n",
              " 18107,\n",
              " 343,\n",
              " 18954,\n",
              " 18487,\n",
              " 13899,\n",
              " 16275,\n",
              " 2403,\n",
              " 7471,\n",
              " 3203,\n",
              " 17586,\n",
              " 21458,\n",
              " 10442,\n",
              " 10017,\n",
              " 6859,\n",
              " 14703,\n",
              " 6131,\n",
              " 6864,\n",
              " 7670,\n",
              " 19273,\n",
              " 19240,\n",
              " 2293,\n",
              " 3216,\n",
              " 20669,\n",
              " 5191,\n",
              " 20272,\n",
              " 13712,\n",
              " 20599,\n",
              " 11720,\n",
              " 7728,\n",
              " 12364,\n",
              " 13289,\n",
              " 755,\n",
              " 4414,\n",
              " 20304,\n",
              " 12373,\n",
              " 8261,\n",
              " 4639,\n",
              " 11656,\n",
              " 14505,\n",
              " 14352,\n",
              " 9942,\n",
              " 12870,\n",
              " 6100,\n",
              " 15064,\n",
              " 6673,\n",
              " 17779,\n",
              " 17701,\n",
              " 745,\n",
              " 17338,\n",
              " 15581,\n",
              " 14005,\n",
              " 15924,\n",
              " 2114,\n",
              " 21400,\n",
              " 13512,\n",
              " 6483,\n",
              " 5567,\n",
              " 13626,\n",
              " 5531,\n",
              " 11059,\n",
              " 7205,\n",
              " 2575,\n",
              " 6987,\n",
              " 1955,\n",
              " 4290,\n",
              " 15385,\n",
              " 18400,\n",
              " 11504,\n",
              " 5680,\n",
              " 20383,\n",
              " 7770,\n",
              " 10531,\n",
              " 183,\n",
              " 19632,\n",
              " 11223,\n",
              " 21745,\n",
              " 16101,\n",
              " 5149,\n",
              " 18223,\n",
              " 6327,\n",
              " 19326,\n",
              " 2052,\n",
              " 875,\n",
              " 19745,\n",
              " 5690,\n",
              " 1301,\n",
              " 11076,\n",
              " 1827,\n",
              " 16516,\n",
              " 6900,\n",
              " 2079,\n",
              " 1174,\n",
              " 9446,\n",
              " 12675,\n",
              " 15887,\n",
              " 15807,\n",
              " 7299,\n",
              " 21676,\n",
              " 11929,\n",
              " 2366,\n",
              " 14434,\n",
              " 19523,\n",
              " 21508,\n",
              " 11817,\n",
              " 19973,\n",
              " 8066,\n",
              " 15522,\n",
              " 2879,\n",
              " 11129,\n",
              " 21815,\n",
              " 17368,\n",
              " 221,\n",
              " 9404,\n",
              " 7182,\n",
              " 8047,\n",
              " 211,\n",
              " 9368,\n",
              " 12296,\n",
              " 8236,\n",
              " 9256,\n",
              " 44,\n",
              " 859,\n",
              " 21659,\n",
              " 6934,\n",
              " 15233,\n",
              " 13578,\n",
              " 18279,\n",
              " 20282,\n",
              " 21474,\n",
              " 18141,\n",
              " 14861,\n",
              " 12783,\n",
              " 8790,\n",
              " 16478,\n",
              " 20704,\n",
              " 11012,\n",
              " 6873,\n",
              " 3880,\n",
              " 9009,\n",
              " 12918,\n",
              " 9068,\n",
              " 21183,\n",
              " 15537,\n",
              " 3908,\n",
              " 9036,\n",
              " 6490,\n",
              " 8201,\n",
              " 16860,\n",
              " 18479,\n",
              " 7198,\n",
              " 7268,\n",
              " 16615,\n",
              " 13937,\n",
              " 3874,\n",
              " 4871,\n",
              " 7540,\n",
              " 10865,\n",
              " 8544,\n",
              " 989,\n",
              " 17055,\n",
              " 20881,\n",
              " 9305,\n",
              " 19988,\n",
              " 8637,\n",
              " 19642,\n",
              " 11405,\n",
              " 19713,\n",
              " 21728,\n",
              " 12201,\n",
              " 11508,\n",
              " 6682,\n",
              " 3505,\n",
              " 16080,\n",
              " 19956,\n",
              " 4030,\n",
              " 7026,\n",
              " 19244,\n",
              " 2507,\n",
              " 3136,\n",
              " 6755,\n",
              " 16722,\n",
              " 3608,\n",
              " 15923,\n",
              " 2556,\n",
              " 21592,\n",
              " 6424,\n",
              " 21614,\n",
              " 17462,\n",
              " 1141,\n",
              " 10813,\n",
              " 2336,\n",
              " 13852,\n",
              " 13637,\n",
              " 9689,\n",
              " 13082,\n",
              " 18731,\n",
              " 6075,\n",
              " 19201,\n",
              " 12353,\n",
              " 19534,\n",
              " 11559,\n",
              " 201,\n",
              " 21653,\n",
              " 813,\n",
              " 19663,\n",
              " 14319,\n",
              " 10255,\n",
              " 7226,\n",
              " 16651,\n",
              " 5221,\n",
              " 15635,\n",
              " 2364,\n",
              " 4208,\n",
              " 11787,\n",
              " 12388,\n",
              " 7106,\n",
              " 15981,\n",
              " 21050,\n",
              " 15681,\n",
              " 7690,\n",
              " 13219,\n",
              " 17535,\n",
              " 20519,\n",
              " 12283,\n",
              " 6058,\n",
              " 18319,\n",
              " 2984,\n",
              " 7910,\n",
              " 16046,\n",
              " 16848,\n",
              " 9063,\n",
              " 12367,\n",
              " 6026,\n",
              " 9554,\n",
              " 14855,\n",
              " 14149,\n",
              " 13508,\n",
              " 2877,\n",
              " 16854,\n",
              " 4182,\n",
              " 12475,\n",
              " 19131,\n",
              " 2711,\n",
              " 17500,\n",
              " 17089,\n",
              " 20152,\n",
              " 10132,\n",
              " 5886,\n",
              " 9627,\n",
              " 2073,\n",
              " 15006,\n",
              " 13949,\n",
              " 10161,\n",
              " 21333,\n",
              " 6604,\n",
              " 10298,\n",
              " 17487,\n",
              " 8976,\n",
              " 19091,\n",
              " 8004,\n",
              " 9309,\n",
              " 4954,\n",
              " 9937,\n",
              " 4484,\n",
              " 11640,\n",
              " 10910,\n",
              " 3401,\n",
              " 6790,\n",
              " 2908,\n",
              " 14246,\n",
              " 8110,\n",
              " 9289,\n",
              " 6654,\n",
              " 9431,\n",
              " 9051,\n",
              " 17411,\n",
              " 3640,\n",
              " 18183,\n",
              " 3370,\n",
              " 5844,\n",
              " 11579,\n",
              " 18835,\n",
              " 5234,\n",
              " 20707,\n",
              " 1792,\n",
              " 8975,\n",
              " 3991,\n",
              " 7837,\n",
              " 9615,\n",
              " 18489,\n",
              " 2590,\n",
              " 391,\n",
              " ...]"
            ]
          },
          "metadata": {},
          "execution_count": 32
        }
      ]
    },
    {
      "cell_type": "code",
      "source": [
        "## Dropping rows with the index numbers\n",
        "\n",
        "train_df.drop(index = index, inplace = True)"
      ],
      "metadata": {
        "id": "cHsWFcLs6xnX"
      },
      "execution_count": null,
      "outputs": []
    },
    {
      "cell_type": "code",
      "source": [
        "train_df.shape"
      ],
      "metadata": {
        "colab": {
          "base_uri": "https://localhost:8080/"
        },
        "id": "VSm4rLna6z41",
        "outputId": "275236e8-3a6a-415c-a03e-22eef12b8ffd"
      },
      "execution_count": null,
      "outputs": [
        {
          "output_type": "execute_result",
          "data": {
            "text/plain": [
              "(19669, 44)"
            ]
          },
          "metadata": {},
          "execution_count": 34
        }
      ]
    },
    {
      "cell_type": "code",
      "source": [
        "## Resetting index for the validation dataset\n",
        "\n",
        "fraction_of_rows.reset_index(drop = True, inplace=True)"
      ],
      "metadata": {
        "id": "Ks_wZNT161-T"
      },
      "execution_count": null,
      "outputs": []
    },
    {
      "cell_type": "code",
      "source": [
        "fraction_of_rows.shape"
      ],
      "metadata": {
        "colab": {
          "base_uri": "https://localhost:8080/"
        },
        "id": "--sMbL0f64I-",
        "outputId": "ec1115f5-872d-4357-f408-e6b45eb8aab1"
      },
      "execution_count": null,
      "outputs": [
        {
          "output_type": "execute_result",
          "data": {
            "text/plain": [
              "(2185, 44)"
            ]
          },
          "metadata": {},
          "execution_count": 36
        }
      ]
    },
    {
      "cell_type": "code",
      "source": [
        "## Creating X and y for dependant and independent variables\n",
        "\n",
        "X = train_df.loc[:,train_df.columns != 'fraud']\n",
        "y = train_df['fraud']"
      ],
      "metadata": {
        "id": "R7kfmBKh66sY"
      },
      "execution_count": null,
      "outputs": []
    },
    {
      "cell_type": "code",
      "source": [
        "## Splitting the dataset into training and test data\n",
        "\n",
        "X_train, X_test, y_train, y_test = train_test_split(X, y, test_size = 0.30, random_state=42)"
      ],
      "metadata": {
        "id": "o6wPjb8m69aM"
      },
      "execution_count": null,
      "outputs": []
    },
    {
      "cell_type": "code",
      "source": [
        "## Creating dataframe for X and y validation dataset\n",
        "\n",
        "X_valid = fraction_of_rows.loc[:,fraction_of_rows.columns != 'fraud']\n",
        "y_valid = fraction_of_rows['fraud']"
      ],
      "metadata": {
        "id": "6qNnkyWU6_cD"
      },
      "execution_count": null,
      "outputs": []
    },
    {
      "cell_type": "code",
      "source": [
        "\n",
        "X_train.shape"
      ],
      "metadata": {
        "colab": {
          "base_uri": "https://localhost:8080/"
        },
        "id": "Dj2YjUyM7CC1",
        "outputId": "c523d47a-2c1d-47c6-927c-5fb26acad282"
      },
      "execution_count": null,
      "outputs": [
        {
          "output_type": "execute_result",
          "data": {
            "text/plain": [
              "(13768, 43)"
            ]
          },
          "metadata": {},
          "execution_count": 40
        }
      ]
    },
    {
      "cell_type": "code",
      "source": [
        "# Defining the classes\n",
        "classes = sorted(y_train.unique())"
      ],
      "metadata": {
        "id": "SLYdqaAo7EdJ"
      },
      "execution_count": null,
      "outputs": []
    },
    {
      "cell_type": "code",
      "source": [
        "## Standardizing the X dataset\n",
        "\n",
        "ss = StandardScaler()\n",
        "X_train=ss.fit_transform(X_train)\n",
        "X_test=ss.transform(X_test)\n",
        "X_valid=ss.transform(X_valid)"
      ],
      "metadata": {
        "id": "gMzvZ-_37G7s"
      },
      "execution_count": null,
      "outputs": []
    },
    {
      "cell_type": "code",
      "source": [
        "\n",
        "clf = MLPClassifier(hidden_layer_sizes=(6), activation='logistic', solver='lbfgs',random_state=1)"
      ],
      "metadata": {
        "id": "YIl1KIj17J1H"
      },
      "execution_count": null,
      "outputs": []
    },
    {
      "cell_type": "code",
      "source": [
        "from sklearn.impute import SimpleImputer\n",
        "\n",
        "# Create an imputer and fit it to the data to learn the imputation strategy\n",
        "imputer = SimpleImputer(strategy='mean')  # You can choose 'median' or 'most_frequent' as well\n",
        "imputer.fit(X_train)\n",
        "\n",
        "# Transform the data by filling in missing values\n",
        "X_train_imputed = imputer.transform(X_train)"
      ],
      "metadata": {
        "id": "NWe6mR4PMhIj"
      },
      "execution_count": null,
      "outputs": []
    },
    {
      "cell_type": "code",
      "source": [
        "from sklearn.ensemble import HistGradientBoostingClassifier\n",
        "\n",
        "# Create and fit the model with missing values support\n",
        "clf = HistGradientBoostingClassifier()\n",
        "clf.fit(X_train, y_train)\n"
      ],
      "metadata": {
        "colab": {
          "base_uri": "https://localhost:8080/",
          "height": 74
        },
        "id": "3ffJ5kH47P89",
        "outputId": "6fc21194-577b-4aa7-c800-ebce7bed6f63"
      },
      "execution_count": null,
      "outputs": [
        {
          "output_type": "execute_result",
          "data": {
            "text/plain": [
              "HistGradientBoostingClassifier()"
            ],
            "text/html": [
              "<style>#sk-container-id-1 {color: black;background-color: white;}#sk-container-id-1 pre{padding: 0;}#sk-container-id-1 div.sk-toggleable {background-color: white;}#sk-container-id-1 label.sk-toggleable__label {cursor: pointer;display: block;width: 100%;margin-bottom: 0;padding: 0.3em;box-sizing: border-box;text-align: center;}#sk-container-id-1 label.sk-toggleable__label-arrow:before {content: \"▸\";float: left;margin-right: 0.25em;color: #696969;}#sk-container-id-1 label.sk-toggleable__label-arrow:hover:before {color: black;}#sk-container-id-1 div.sk-estimator:hover label.sk-toggleable__label-arrow:before {color: black;}#sk-container-id-1 div.sk-toggleable__content {max-height: 0;max-width: 0;overflow: hidden;text-align: left;background-color: #f0f8ff;}#sk-container-id-1 div.sk-toggleable__content pre {margin: 0.2em;color: black;border-radius: 0.25em;background-color: #f0f8ff;}#sk-container-id-1 input.sk-toggleable__control:checked~div.sk-toggleable__content {max-height: 200px;max-width: 100%;overflow: auto;}#sk-container-id-1 input.sk-toggleable__control:checked~label.sk-toggleable__label-arrow:before {content: \"▾\";}#sk-container-id-1 div.sk-estimator input.sk-toggleable__control:checked~label.sk-toggleable__label {background-color: #d4ebff;}#sk-container-id-1 div.sk-label input.sk-toggleable__control:checked~label.sk-toggleable__label {background-color: #d4ebff;}#sk-container-id-1 input.sk-hidden--visually {border: 0;clip: rect(1px 1px 1px 1px);clip: rect(1px, 1px, 1px, 1px);height: 1px;margin: -1px;overflow: hidden;padding: 0;position: absolute;width: 1px;}#sk-container-id-1 div.sk-estimator {font-family: monospace;background-color: #f0f8ff;border: 1px dotted black;border-radius: 0.25em;box-sizing: border-box;margin-bottom: 0.5em;}#sk-container-id-1 div.sk-estimator:hover {background-color: #d4ebff;}#sk-container-id-1 div.sk-parallel-item::after {content: \"\";width: 100%;border-bottom: 1px solid gray;flex-grow: 1;}#sk-container-id-1 div.sk-label:hover label.sk-toggleable__label {background-color: #d4ebff;}#sk-container-id-1 div.sk-serial::before {content: \"\";position: absolute;border-left: 1px solid gray;box-sizing: border-box;top: 0;bottom: 0;left: 50%;z-index: 0;}#sk-container-id-1 div.sk-serial {display: flex;flex-direction: column;align-items: center;background-color: white;padding-right: 0.2em;padding-left: 0.2em;position: relative;}#sk-container-id-1 div.sk-item {position: relative;z-index: 1;}#sk-container-id-1 div.sk-parallel {display: flex;align-items: stretch;justify-content: center;background-color: white;position: relative;}#sk-container-id-1 div.sk-item::before, #sk-container-id-1 div.sk-parallel-item::before {content: \"\";position: absolute;border-left: 1px solid gray;box-sizing: border-box;top: 0;bottom: 0;left: 50%;z-index: -1;}#sk-container-id-1 div.sk-parallel-item {display: flex;flex-direction: column;z-index: 1;position: relative;background-color: white;}#sk-container-id-1 div.sk-parallel-item:first-child::after {align-self: flex-end;width: 50%;}#sk-container-id-1 div.sk-parallel-item:last-child::after {align-self: flex-start;width: 50%;}#sk-container-id-1 div.sk-parallel-item:only-child::after {width: 0;}#sk-container-id-1 div.sk-dashed-wrapped {border: 1px dashed gray;margin: 0 0.4em 0.5em 0.4em;box-sizing: border-box;padding-bottom: 0.4em;background-color: white;}#sk-container-id-1 div.sk-label label {font-family: monospace;font-weight: bold;display: inline-block;line-height: 1.2em;}#sk-container-id-1 div.sk-label-container {text-align: center;}#sk-container-id-1 div.sk-container {/* jupyter's `normalize.less` sets `[hidden] { display: none; }` but bootstrap.min.css set `[hidden] { display: none !important; }` so we also need the `!important` here to be able to override the default hidden behavior on the sphinx rendered scikit-learn.org. See: https://github.com/scikit-learn/scikit-learn/issues/21755 */display: inline-block !important;position: relative;}#sk-container-id-1 div.sk-text-repr-fallback {display: none;}</style><div id=\"sk-container-id-1\" class=\"sk-top-container\"><div class=\"sk-text-repr-fallback\"><pre>HistGradientBoostingClassifier()</pre><b>In a Jupyter environment, please rerun this cell to show the HTML representation or trust the notebook. <br />On GitHub, the HTML representation is unable to render, please try loading this page with nbviewer.org.</b></div><div class=\"sk-container\" hidden><div class=\"sk-item\"><div class=\"sk-estimator sk-toggleable\"><input class=\"sk-toggleable__control sk-hidden--visually\" id=\"sk-estimator-id-1\" type=\"checkbox\" checked><label for=\"sk-estimator-id-1\" class=\"sk-toggleable__label sk-toggleable__label-arrow\">HistGradientBoostingClassifier</label><div class=\"sk-toggleable__content\"><pre>HistGradientBoostingClassifier()</pre></div></div></div></div></div>"
            ]
          },
          "metadata": {},
          "execution_count": 48
        }
      ]
    },
    {
      "cell_type": "code",
      "source": [
        "## Predicting the trained model\n",
        "\n",
        "clf.predict(X_test)"
      ],
      "metadata": {
        "colab": {
          "base_uri": "https://localhost:8080/"
        },
        "id": "YMzgjAa_MtgM",
        "outputId": "7b57a7a3-d3e3-4659-a8b3-e2318b57e5ba"
      },
      "execution_count": null,
      "outputs": [
        {
          "output_type": "execute_result",
          "data": {
            "text/plain": [
              "array([0, 0, 0, ..., 0, 0, 0])"
            ]
          },
          "metadata": {},
          "execution_count": 49
        }
      ]
    },
    {
      "cell_type": "code",
      "source": [
        "## Creating a Classification matrix for MLPClassifier\n",
        "\n",
        "classificationSummary(y_test, clf.predict(X_test), class_names=classes)"
      ],
      "metadata": {
        "colab": {
          "base_uri": "https://localhost:8080/"
        },
        "id": "0t_d_ymPMyb0",
        "outputId": "4c4564e6-116d-4db4-aad2-71e1b04038af"
      },
      "execution_count": null,
      "outputs": [
        {
          "output_type": "stream",
          "name": "stdout",
          "text": [
            "Confusion Matrix (Accuracy 0.9849)\n",
            "\n",
            "       Prediction\n",
            "Actual    0    1\n",
            "     0 5770   18\n",
            "     1   71   42\n"
          ]
        }
      ]
    },
    {
      "cell_type": "code",
      "source": [
        "train_df.shape"
      ],
      "metadata": {
        "colab": {
          "base_uri": "https://localhost:8080/"
        },
        "id": "CEpcXv-uM107",
        "outputId": "489cae92-7528-48ba-8c0c-fb9a8b7cded7"
      },
      "execution_count": null,
      "outputs": [
        {
          "output_type": "execute_result",
          "data": {
            "text/plain": [
              "(19669, 44)"
            ]
          },
          "metadata": {},
          "execution_count": 51
        }
      ]
    },
    {
      "cell_type": "code",
      "source": [
        "keras.layers.BatchNormalization()\n",
        "model = Sequential()\n",
        "#First Hidden Layer\n",
        "model.add(Dense(1024, activation='relu', kernel_initializer='random_normal', input_dim=43)) #As we have 43 columns\n",
        "\n",
        "#All other hidden layers in a for loop with nodes reducing in each loop\n",
        "nodes = 1024\n",
        "for i in range(9):\n",
        "    nodes = nodes // 2\n",
        "    model.add(Dense(nodes, activation='relu', kernel_initializer='random_normal'))\n",
        "\n",
        "#Output Layer\n",
        "model.add(Dense(1))\n",
        "model.add(Activation('sigmoid'))\n",
        "\n",
        "model.summary()"
      ],
      "metadata": {
        "colab": {
          "base_uri": "https://localhost:8080/"
        },
        "id": "y0PA7SCCM1qo",
        "outputId": "60e0c543-0ad0-47f5-de1b-93cf78b401a8"
      },
      "execution_count": null,
      "outputs": [
        {
          "output_type": "stream",
          "name": "stdout",
          "text": [
            "Model: \"sequential\"\n",
            "_________________________________________________________________\n",
            " Layer (type)                Output Shape              Param #   \n",
            "=================================================================\n",
            " dense (Dense)               (None, 1024)              45056     \n",
            "                                                                 \n",
            " dense_1 (Dense)             (None, 512)               524800    \n",
            "                                                                 \n",
            " dense_2 (Dense)             (None, 256)               131328    \n",
            "                                                                 \n",
            " dense_3 (Dense)             (None, 128)               32896     \n",
            "                                                                 \n",
            " dense_4 (Dense)             (None, 64)                8256      \n",
            "                                                                 \n",
            " dense_5 (Dense)             (None, 32)                2080      \n",
            "                                                                 \n",
            " dense_6 (Dense)             (None, 16)                528       \n",
            "                                                                 \n",
            " dense_7 (Dense)             (None, 8)                 136       \n",
            "                                                                 \n",
            " dense_8 (Dense)             (None, 4)                 36        \n",
            "                                                                 \n",
            " dense_9 (Dense)             (None, 2)                 10        \n",
            "                                                                 \n",
            " dense_10 (Dense)            (None, 1)                 3         \n",
            "                                                                 \n",
            " activation (Activation)     (None, 1)                 0         \n",
            "                                                                 \n",
            "=================================================================\n",
            "Total params: 745,129\n",
            "Trainable params: 745,129\n",
            "Non-trainable params: 0\n",
            "_________________________________________________________________\n"
          ]
        }
      ]
    },
    {
      "cell_type": "code",
      "source": [
        "## Compiling the model created\n",
        "\n",
        "model.compile(optimizer='adam',loss='binary_crossentropy',metrics=['accuracy'])"
      ],
      "metadata": {
        "id": "I57_yH3nM8Gz"
      },
      "execution_count": null,
      "outputs": []
    },
    {
      "cell_type": "code",
      "source": [
        "csvlogger = CSVLogger('training.log',separator=',',append=False)\n",
        "\n",
        "result = model.fit(X_train, y_train, batch_size = 512, epochs = 15, callbacks=[csvlogger])"
      ],
      "metadata": {
        "colab": {
          "base_uri": "https://localhost:8080/"
        },
        "id": "vq5wsaMyM--f",
        "outputId": "46d5d7f1-93de-4493-ef78-6ab8157383a5"
      },
      "execution_count": null,
      "outputs": [
        {
          "output_type": "stream",
          "name": "stdout",
          "text": [
            "Epoch 1/15\n",
            "27/27 [==============================] - 5s 70ms/step - loss: nan - accuracy: 0.9806\n",
            "Epoch 2/15\n",
            "27/27 [==============================] - 2s 58ms/step - loss: nan - accuracy: 0.9812\n",
            "Epoch 3/15\n",
            "27/27 [==============================] - 2s 57ms/step - loss: nan - accuracy: 0.9812\n",
            "Epoch 4/15\n",
            "27/27 [==============================] - 2s 57ms/step - loss: nan - accuracy: 0.9812\n",
            "Epoch 5/15\n",
            "27/27 [==============================] - 2s 57ms/step - loss: nan - accuracy: 0.9812\n",
            "Epoch 6/15\n",
            "27/27 [==============================] - 2s 56ms/step - loss: nan - accuracy: 0.9812\n",
            "Epoch 7/15\n",
            "27/27 [==============================] - 2s 65ms/step - loss: nan - accuracy: 0.9812\n",
            "Epoch 8/15\n",
            "27/27 [==============================] - 3s 98ms/step - loss: nan - accuracy: 0.9812\n",
            "Epoch 9/15\n",
            "27/27 [==============================] - 3s 118ms/step - loss: nan - accuracy: 0.9812\n",
            "Epoch 10/15\n",
            "27/27 [==============================] - 3s 118ms/step - loss: nan - accuracy: 0.9812\n",
            "Epoch 11/15\n",
            "27/27 [==============================] - 3s 96ms/step - loss: nan - accuracy: 0.9812\n",
            "Epoch 12/15\n",
            "27/27 [==============================] - 2s 61ms/step - loss: nan - accuracy: 0.9812\n",
            "Epoch 13/15\n",
            "27/27 [==============================] - 2s 65ms/step - loss: nan - accuracy: 0.9812\n",
            "Epoch 14/15\n",
            "27/27 [==============================] - 3s 96ms/step - loss: nan - accuracy: 0.9812\n",
            "Epoch 15/15\n",
            "27/27 [==============================] - 2s 81ms/step - loss: nan - accuracy: 0.9812\n"
          ]
        }
      ]
    },
    {
      "cell_type": "code",
      "source": [
        "plt.plot(result.history['accuracy'],'green',label='Accuracy')\n",
        "plt.plot(result.history['loss'],'red',label='Loss')\n",
        "plt.title('Training Accuracy & Loss')\n",
        "plt.xlabel('Epoch')\n",
        "plt.legend(loc=0)"
      ],
      "metadata": {
        "colab": {
          "base_uri": "https://localhost:8080/",
          "height": 489
        },
        "id": "VFRpHw2TNJe6",
        "outputId": "06f352ad-427a-4951-8138-8af26706d996"
      },
      "execution_count": null,
      "outputs": [
        {
          "output_type": "execute_result",
          "data": {
            "text/plain": [
              "<matplotlib.legend.Legend at 0x7f12a0f5bfd0>"
            ]
          },
          "metadata": {},
          "execution_count": 55
        },
        {
          "output_type": "display_data",
          "data": {
            "text/plain": [
              "<Figure size 640x480 with 1 Axes>"
            ],
            "image/png": "[encoded data removed]"
          },
          "metadata": {}
        }
      ]
    },
    {
      "cell_type": "code",
      "source": [
        "# Predicting the custom model model\n",
        "\n",
        "train_evaluate=model.evaluate(X_train, y_train)\n",
        "test_evaluate=model.evaluate(X_test, y_test)\n",
        "print('accuracy for Train set is',train_evaluate)\n",
        "print('accuracy for Test set is',test_evaluate) # evaluation of model.\n",
        "yf_pred1=model.predict(X_test,batch_size=512,verbose=1)\n",
        "yf_pred=np.argmax(yf_pred1,axis=1)\n",
        "print(f1_score(y_test,yf_pred,average=\"weighted\"))"
      ],
      "metadata": {
        "colab": {
          "base_uri": "https://localhost:8080/"
        },
        "id": "lU_GFfmzNET9",
        "outputId": "ae750032-e6f4-44ef-f6eb-064c95fe963f"
      },
      "execution_count": null,
      "outputs": [
        {
          "output_type": "stream",
          "name": "stdout",
          "text": [
            "431/431 [==============================] - 3s 6ms/step - loss: nan - accuracy: 0.9812\n",
            "185/185 [==============================] - 1s 5ms/step - loss: nan - accuracy: 0.9809\n",
            "accuracy for Train set is [nan, 0.9811882376670837]\n",
            "accuracy for Test set is [nan, 0.9808506965637207]\n",
            "12/12 [==============================] - 0s 17ms/step\n",
            "0.9713686150278754\n"
          ]
        }
      ]
    },
    {
      "cell_type": "code",
      "source": [
        "## Predicting the validation dataset\n",
        "\n",
        "clf_pred = clf.predict(X_valid)\n",
        "clf_pred"
      ],
      "metadata": {
        "colab": {
          "base_uri": "https://localhost:8080/"
        },
        "id": "xrc9IFyaNOIi",
        "outputId": "4f400c30-285c-4fbf-ddd6-a13780a2d08e"
      },
      "execution_count": null,
      "outputs": [
        {
          "output_type": "execute_result",
          "data": {
            "text/plain": [
              "array([0, 0, 0, ..., 0, 0, 0])"
            ]
          },
          "metadata": {},
          "execution_count": 57
        }
      ]
    },
    {
      "cell_type": "code",
      "source": [
        "## Classification Matrix for Validation Dataset\n",
        "\n",
        "classificationSummary(y_valid, clf.predict(X_valid), class_names=classes)"
      ],
      "metadata": {
        "colab": {
          "base_uri": "https://localhost:8080/"
        },
        "id": "zgvzYwPpNQd3",
        "outputId": "2ccfb06f-18b2-4015-caf7-e249610ca9bf"
      },
      "execution_count": null,
      "outputs": [
        {
          "output_type": "stream",
          "name": "stdout",
          "text": [
            "Confusion Matrix (Accuracy 0.9858)\n",
            "\n",
            "       Prediction\n",
            "Actual    0    1\n",
            "     0 2138    5\n",
            "     1   26   16\n"
          ]
        }
      ]
    },
    {
      "cell_type": "code",
      "source": [
        "accuracy_score(y_valid,clf_pred)"
      ],
      "metadata": {
        "colab": {
          "base_uri": "https://localhost:8080/"
        },
        "id": "-19Ut2hMNTK5",
        "outputId": "20a18e1a-b741-45c7-e954-8c1954fd29b0"
      },
      "execution_count": null,
      "outputs": [
        {
          "output_type": "execute_result",
          "data": {
            "text/plain": [
              "0.9858123569794051"
            ]
          },
          "metadata": {},
          "execution_count": 59
        }
      ]
    },
    {
      "cell_type": "code",
      "source": [
        "predictions = model.predict(X_valid)"
      ],
      "metadata": {
        "colab": {
          "base_uri": "https://localhost:8080/"
        },
        "id": "J5SN4_HgNVo3",
        "outputId": "37023e21-fbc9-47b2-97fc-4194cfad9441"
      },
      "execution_count": null,
      "outputs": [
        {
          "output_type": "stream",
          "name": "stdout",
          "text": [
            "69/69 [==============================] - 0s 3ms/step\n"
          ]
        }
      ]
    },
    {
      "cell_type": "code",
      "source": [
        "predictions = (predictions > 0.5).astype(np.float32)"
      ],
      "metadata": {
        "id": "y9dFTAvGNYFy"
      },
      "execution_count": null,
      "outputs": []
    },
    {
      "cell_type": "code",
      "source": [
        "predictions"
      ],
      "metadata": {
        "colab": {
          "base_uri": "https://localhost:8080/"
        },
        "id": "Cpx5Ud0UNafz",
        "outputId": "5b05c368-654c-482a-c3e4-d28a514a2a04"
      },
      "execution_count": null,
      "outputs": [
        {
          "output_type": "execute_result",
          "data": {
            "text/plain": [
              "array([[0.],\n",
              "       [0.],\n",
              "       [0.],\n",
              "       ...,\n",
              "       [0.],\n",
              "       [0.],\n",
              "       [0.]], dtype=float32)"
            ]
          },
          "metadata": {},
          "execution_count": 62
        }
      ]
    },
    {
      "cell_type": "code",
      "source": [
        "accuracy_score(y_valid,predictions)"
      ],
      "metadata": {
        "colab": {
          "base_uri": "https://localhost:8080/"
        },
        "id": "bFyWFOHKNdZ1",
        "outputId": "bdb0482d-c842-4685-a64a-cdc692f8e5c2"
      },
      "execution_count": null,
      "outputs": [
        {
          "output_type": "execute_result",
          "data": {
            "text/plain": [
              "0.9807780320366133"
            ]
          },
          "metadata": {},
          "execution_count": 63
        }
      ]
    },
    {
      "cell_type": "code",
      "source": [
        "keras.backend.clear_session()"
      ],
      "metadata": {
        "id": "qgyl3y9sNf4T"
      },
      "execution_count": null,
      "outputs": []
    }
  ]
}